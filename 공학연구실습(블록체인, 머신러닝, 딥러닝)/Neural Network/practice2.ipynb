{
 "cells": [
  {
   "cell_type": "code",
   "execution_count": 1,
   "metadata": {},
   "outputs": [],
   "source": [
    "# coding: utf-8 \n",
    "import sys, os \n",
    "import numpy as np \n",
    "import matplotlib.pyplot as plt \n",
    "from mnist import load_mnist \n",
    "from two_layer_net import TwoLayerNet\n"
   ]
  },
  {
   "cell_type": "code",
   "execution_count": 2,
   "metadata": {},
   "outputs": [],
   "source": [
    "(x_train, t_train), (x_test, t_test) = load_mnist(normalize=True, one_hot_label=True)\n",
    "network = TwoLayerNet(input_size=784, hidden_size=50, output_size=10)"
   ]
  },
  {
   "cell_type": "code",
   "execution_count": 3,
   "metadata": {},
   "outputs": [],
   "source": [
    "iters_num = 10000  # 반복 횟수를 적절히 설정한다. \n",
    "train_size = x_train.shape[0] \n",
    "batch_size = 100   # 미니배치 크기 \n",
    "learning_rate = 0.1\n",
    "train_loss_list = [] \n",
    "train_acc_list = [] \n",
    "test_acc_list = []\n"
   ]
  },
  {
   "cell_type": "code",
   "execution_count": 4,
   "metadata": {},
   "outputs": [
    {
     "name": "stdout",
     "output_type": "stream",
     "text": [
      "train acc, test acc | 0.09035, 0.0892\n",
      "train acc, test acc | 0.7890333333333334, 0.7938\n",
      "train acc, test acc | 0.8776833333333334, 0.8811\n",
      "train acc, test acc | 0.8984666666666666, 0.9033\n",
      "train acc, test acc | 0.9069333333333334, 0.9114\n",
      "train acc, test acc | 0.9153666666666667, 0.9158\n",
      "train acc, test acc | 0.9192833333333333, 0.9209\n",
      "train acc, test acc | 0.9242666666666667, 0.9262\n",
      "train acc, test acc | 0.92775, 0.929\n",
      "train acc, test acc | 0.9313, 0.9321\n",
      "train acc, test acc | 0.93425, 0.9354\n",
      "train acc, test acc | 0.9377833333333333, 0.9377\n",
      "train acc, test acc | 0.94005, 0.9389\n",
      "train acc, test acc | 0.9423333333333334, 0.9412\n",
      "train acc, test acc | 0.9446333333333333, 0.9436\n",
      "train acc, test acc | 0.94635, 0.9448\n",
      "train acc, test acc | 0.9483833333333334, 0.9459\n"
     ]
    }
   ],
   "source": [
    "iter_per_epoch = max(train_size / batch_size, 1) # 1에폭당 반복 수\n",
    "\n",
    "for i in range(iters_num): \n",
    "    batch_mask = np.random.choice(train_size, batch_size) # 미니배치 획득 \n",
    "    x_batch = x_train[batch_mask] \n",
    "    t_batch = t_train[batch_mask]\n",
    "    grad = network.gradient(x_batch, t_batch) # 기울기 계산\n",
    "    for key in ('W1', 'b1', 'W2', 'b2'):   # 매개변수 갱신 \n",
    "        network.params[key] -= learning_rate * grad[key]  \n",
    "        \n",
    "    loss = network.loss(x_batch, t_batch) # 학습 경과 기록 \n",
    "    train_loss_list.append(loss)\n",
    "    if i % iter_per_epoch == 0:    # 1에폭당 정확도 계산 \n",
    "        train_acc = network.accuracy(x_train, t_train) \n",
    "        test_acc = network.accuracy(x_test, t_test) \n",
    "        train_acc_list.append(train_acc) \n",
    "        test_acc_list.append(test_acc) \n",
    "        print(\"train acc, test acc | \" + str(train_acc) + \", \" + str(test_acc))\n"
   ]
  },
  {
   "cell_type": "code",
   "execution_count": 6,
   "metadata": {},
   "outputs": [
    {
     "data": {
      "image/png": "[encoded data removed]",
      "text/plain": [
       "<Figure size 432x288 with 1 Axes>"
      ]
     },
     "metadata": {
      "needs_background": "light"
     },
     "output_type": "display_data"
    }
   ],
   "source": [
    "markers = {'train': 'o', 'test': 's'} \n",
    "x = np.arange(len(train_acc_list)) \n",
    "plt.plot(x, train_acc_list, label='train acc') \n",
    "plt.plot(x, test_acc_list, label='test acc', linestyle='--') \n",
    "plt.xlabel(\"epochs\") \n",
    "plt.ylabel(\"accuracy\") \n",
    "plt.ylim(0, 1.0) \n",
    "plt.legend(loc='lower right') \n",
    "plt.show()"
   ]
  },
  {
   "cell_type": "code",
   "execution_count": null,
   "metadata": {},
   "outputs": [],
   "source": []
  }
 ],
 "metadata": {
  "kernelspec": {
   "display_name": "Python 3",
   "language": "python",
   "name": "python3"
  },
  "language_info": {
   "codemirror_mode": {
    "name": "ipython",
    "version": 3
   },
   "file_extension": ".py",
   "mimetype": "text/x-python",
   "name": "python",
   "nbconvert_exporter": "python",
   "pygments_lexer": "ipython3",
   "version": "3.8.3"
  }
 },
 "nbformat": 4,
 "nbformat_minor": 4
}
