{
 "cells": [
  {
   "cell_type": "markdown",
   "metadata": {},
   "source": [
    "### Histogram bins 이해"
   ]
  },
  {
   "cell_type": "code",
   "execution_count": 1,
   "metadata": {},
   "outputs": [
    {
     "name": "stdout",
     "output_type": "stream",
     "text": [
      "[3 1 5 0 0 1 0 0 0 1]\n",
      "[0.7 1.6 2.5 3.4 4.3 5.2 6.1 7.  7.9 8.8 9.7]\n",
      "[3, 4, 3, 1]\n",
      "[0.0, 2.0, 3.0, 6.0, 10.0]\n"
     ]
    },
    {
     "data": {
      "image/png": "[encoded data removed]",
      "text/plain": [
       "<Figure size 864x432 with 2 Axes>"
      ]
     },
     "metadata": {
      "needs_background": "light"
     },
     "output_type": "display_data"
    }
   ],
   "source": [
    "import numpy as np\n",
    "import matplotlib.pyplot as plt\n",
    "Vals = np.array([0.7, 1.0, 1.5, 2.3, 2.5, 2.7, 2.9, 3.0, 3.1, 5.5, 9.7])\n",
    "\n",
    "plt.rcParams['figure.figsize'] = [12,6]\n",
    "fig = plt.figure()\n",
    "ax1 = fig.add_subplot(1,2,1)\n",
    "ax2 = fig.add_subplot(1,2,2)\n",
    "\n",
    "counts1, bins1 = np.histogram(Vals)\n",
    "print(counts1)\n",
    "print(bins1)\n",
    "counts1 = [3, 2, 4, 0, 1, 0, 0, 0, 0, 1]\n",
    "\n",
    "ax1.hist(bins1[:-1], bins1, weights = counts1, rwidth=0.8)\n",
    "\n",
    "counts2 = [3, 4, 3, 1]\n",
    "bins2 = [0.0, 2.0, 3.0, 6.0, 10.0]\n",
    "print(counts2)\n",
    "print(bins2)\n",
    "\n",
    "ax2.hist(bins2[:-1], bins2, weights = counts2, rwidth=0.8)\n",
    "\n",
    "\n",
    "plt.show()"
   ]
  },
  {
   "cell_type": "code",
   "execution_count": 2,
   "metadata": {},
   "outputs": [
    {
     "data": {
      "text/plain": [
       "'\\ncounts = [1, 3, 5, 7]\\nbins = [0, 3, 7, 13, 20]\\nplt.hist(bins[:-1], bins, weights = counts, rwidth = 0.8)\\nplt.show()\\n'"
      ]
     },
     "execution_count": 2,
     "metadata": {},
     "output_type": "execute_result"
    }
   ],
   "source": [
    "# 이해를 위한 코드\n",
    "'''\n",
    "counts = [1, 3, 5, 7]\n",
    "bins = [0, 3, 7, 13, 20]\n",
    "plt.hist(bins[:-1], bins, weights = counts, rwidth = 0.8)\n",
    "plt.show()\n",
    "'''"
   ]
  }
 ],
 "metadata": {
  "kernelspec": {
   "display_name": "Python 3",
   "language": "python",
   "name": "python3"
  },
  "language_info": {
   "codemirror_mode": {
    "name": "ipython",
    "version": 3
   },
   "file_extension": ".py",
   "mimetype": "text/x-python",
   "name": "python",
   "nbconvert_exporter": "python",
   "pygments_lexer": "ipython3",
   "version": "3.8.3"
  }
 },
 "nbformat": 4,
 "nbformat_minor": 4
}
