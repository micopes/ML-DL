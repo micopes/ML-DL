{
  "nbformat": 4,
  "nbformat_minor": 0,
  "metadata": {
    "colab": {
      "name": "HW13.ipynb의 사본",
      "provenance": [],
      "collapsed_sections": []
    },
    "kernelspec": {
      "name": "python3",
      "display_name": "Python 3"
    },
    "language_info": {
      "name": "python"
    }
  },
  "cells": [
    {
      "cell_type": "markdown",
      "metadata": {
        "id": "NQCQEK5rG6CV"
      },
      "source": [
        "#[HW 13] - Regression\n",
        "## Code for Q1\n",
        "For the given dataset in the following code, perform a (multi-variable) linear regression to answer to the questions in [HW 13].\n",
        "* Do not change train_data and test_data."
      ]
    },
    {
      "cell_type": "code",
      "metadata": {
        "id": "ZZcIgFSqG5Uw",
        "colab": {
          "base_uri": "https://localhost:8080/"
        },
        "outputId": "9c43da8b-3608-466f-d549-7991e0421db9"
      },
      "source": [
        "import numpy as np\n",
        "import pandas as pd\n",
        "from sklearn import linear_model\n",
        "from sklearn import metrics\n",
        "import seaborn as sn\n",
        "import matplotlib.pyplot as plt\n",
        "\n",
        "data = pd.read_csv('https://raw.githubusercontent.com/inetguru/IDS-CB35533/main/diabetes.csv')\n",
        "\n",
        "train_data = data[:420]\n",
        "test_data = data[421:442]"
      ],
      "execution_count": null,
      "outputs": [
        {
          "output_type": "stream",
          "text": [
            "(420, 11) (21, 11)\n"
          ],
          "name": "stdout"
        }
      ]
    },
    {
      "cell_type": "code",
      "metadata": {
        "id": "dowwe6hJXFu9",
        "colab": {
          "base_uri": "https://localhost:8080/",
          "height": 204
        },
        "outputId": "2c0c2771-09d4-490f-b681-d353737322b4"
      },
      "source": [
        "train_data.head()"
      ],
      "execution_count": null,
      "outputs": [
        {
          "output_type": "execute_result",
          "data": {
            "text/html": [
              "<div>\n",
              "<style scoped>\n",
              "    .dataframe tbody tr th:only-of-type {\n",
              "        vertical-align: middle;\n",
              "    }\n",
              "\n",
              "    .dataframe tbody tr th {\n",
              "        vertical-align: top;\n",
              "    }\n",
              "\n",
              "    .dataframe thead th {\n",
              "        text-align: right;\n",
              "    }\n",
              "</style>\n",
              "<table border=\"1\" class=\"dataframe\">\n",
              "  <thead>\n",
              "    <tr style=\"text-align: right;\">\n",
              "      <th></th>\n",
              "      <th>AGE</th>\n",
              "      <th>SEX</th>\n",
              "      <th>BMI</th>\n",
              "      <th>BP</th>\n",
              "      <th>S1</th>\n",
              "      <th>S2</th>\n",
              "      <th>S3</th>\n",
              "      <th>S4</th>\n",
              "      <th>S5</th>\n",
              "      <th>S6</th>\n",
              "      <th>Y</th>\n",
              "    </tr>\n",
              "  </thead>\n",
              "  <tbody>\n",
              "    <tr>\n",
              "      <th>0</th>\n",
              "      <td>59</td>\n",
              "      <td>2</td>\n",
              "      <td>32.1</td>\n",
              "      <td>101.0</td>\n",
              "      <td>157</td>\n",
              "      <td>93.2</td>\n",
              "      <td>38.0</td>\n",
              "      <td>4.0</td>\n",
              "      <td>4.8598</td>\n",
              "      <td>87</td>\n",
              "      <td>151</td>\n",
              "    </tr>\n",
              "    <tr>\n",
              "      <th>1</th>\n",
              "      <td>48</td>\n",
              "      <td>1</td>\n",
              "      <td>21.6</td>\n",
              "      <td>87.0</td>\n",
              "      <td>183</td>\n",
              "      <td>103.2</td>\n",
              "      <td>70.0</td>\n",
              "      <td>3.0</td>\n",
              "      <td>3.8918</td>\n",
              "      <td>69</td>\n",
              "      <td>75</td>\n",
              "    </tr>\n",
              "    <tr>\n",
              "      <th>2</th>\n",
              "      <td>72</td>\n",
              "      <td>2</td>\n",
              "      <td>30.5</td>\n",
              "      <td>93.0</td>\n",
              "      <td>156</td>\n",
              "      <td>93.6</td>\n",
              "      <td>41.0</td>\n",
              "      <td>4.0</td>\n",
              "      <td>4.6728</td>\n",
              "      <td>85</td>\n",
              "      <td>141</td>\n",
              "    </tr>\n",
              "    <tr>\n",
              "      <th>3</th>\n",
              "      <td>24</td>\n",
              "      <td>1</td>\n",
              "      <td>25.3</td>\n",
              "      <td>84.0</td>\n",
              "      <td>198</td>\n",
              "      <td>131.4</td>\n",
              "      <td>40.0</td>\n",
              "      <td>5.0</td>\n",
              "      <td>4.8903</td>\n",
              "      <td>89</td>\n",
              "      <td>206</td>\n",
              "    </tr>\n",
              "    <tr>\n",
              "      <th>4</th>\n",
              "      <td>50</td>\n",
              "      <td>1</td>\n",
              "      <td>23.0</td>\n",
              "      <td>101.0</td>\n",
              "      <td>192</td>\n",
              "      <td>125.4</td>\n",
              "      <td>52.0</td>\n",
              "      <td>4.0</td>\n",
              "      <td>4.2905</td>\n",
              "      <td>80</td>\n",
              "      <td>135</td>\n",
              "    </tr>\n",
              "  </tbody>\n",
              "</table>\n",
              "</div>"
            ],
            "text/plain": [
              "   AGE  SEX   BMI     BP   S1     S2    S3   S4      S5  S6    Y\n",
              "0   59    2  32.1  101.0  157   93.2  38.0  4.0  4.8598  87  151\n",
              "1   48    1  21.6   87.0  183  103.2  70.0  3.0  3.8918  69   75\n",
              "2   72    2  30.5   93.0  156   93.6  41.0  4.0  4.6728  85  141\n",
              "3   24    1  25.3   84.0  198  131.4  40.0  5.0  4.8903  89  206\n",
              "4   50    1  23.0  101.0  192  125.4  52.0  4.0  4.2905  80  135"
            ]
          },
          "metadata": {
            "tags": []
          },
          "execution_count": 6
        }
      ]
    },
    {
      "cell_type": "code",
      "metadata": {
        "id": "l3daMd1NW5uF"
      },
      "source": [
        "# Set predictors and target\n",
        "predictors = [\"BMI\"]\n",
        "target = \"Y\""
      ],
      "execution_count": null,
      "outputs": []
    },
    {
      "cell_type": "code",
      "metadata": {
        "id": "4vxUXV7WW7zp"
      },
      "source": [
        "# Generate a model instance for linear regression\n",
        "model = linear_model.LinearRegression()"
      ],
      "execution_count": null,
      "outputs": []
    },
    {
      "cell_type": "code",
      "metadata": {
        "id": "uM1oXzX6W8j-",
        "colab": {
          "base_uri": "https://localhost:8080/"
        },
        "outputId": "0db6a17c-245d-47ca-bf3e-aa0473e29e63"
      },
      "source": [
        "# Perform Fit/Train, Check/print out the coefficients of your model\n",
        "model.fit(train_data[predictors], train_data[target])\n",
        "print(model.coef_)\n",
        "print(model.intercept_)\n",
        "print(model.predict(np.reshape([30.5], (1, -1))))"
      ],
      "execution_count": null,
      "outputs": [
        {
          "output_type": "stream",
          "text": [
            "[10.11594319]\n",
            "-114.06609690811078\n",
            "[194.47017036]\n"
          ],
          "name": "stdout"
        }
      ]
    },
    {
      "cell_type": "code",
      "metadata": {
        "id": "sa0g3WEkW-Ku",
        "colab": {
          "base_uri": "https://localhost:8080/"
        },
        "outputId": "dc9eb4ac-41f5-4ab4-8e2e-6d84c5791ca6"
      },
      "source": [
        "# Evaluate the model using the test data, Get r2 score.\n",
        "print(model.score(test_data[predictors], test_data[target]))\n",
        "print(metrics.r2_score(test_data[target], model.predict(test_data[predictors])))"
      ],
      "execution_count": null,
      "outputs": [
        {
          "output_type": "stream",
          "text": [
            "0.49091505719662387\n",
            "0.49091505719662387\n"
          ],
          "name": "stdout"
        }
      ]
    },
    {
      "cell_type": "markdown",
      "metadata": {
        "id": "Jk2jWznCZYSS"
      },
      "source": [
        "### BMI"
      ]
    },
    {
      "cell_type": "code",
      "metadata": {
        "id": "agAJ-jCDUP0K",
        "colab": {
          "base_uri": "https://localhost:8080/"
        },
        "outputId": "42d5d87b-61de-42e9-8fe5-b64aa50c7dd9"
      },
      "source": [
        "data = pd.read_csv('https://raw.githubusercontent.com/inetguru/IDS-CB35533/main/diabetes.csv')\n",
        "\n",
        "train_data = data[:420]\n",
        "test_data = data[421:442]\n",
        "\n",
        "predictors = [\"BMI\"]\n",
        "target = 'Y'\n",
        "\n",
        "model = linear_model.LinearRegression()\n",
        "\n",
        "model.fit(train_data[predictors], train_data[target])\n",
        "print(f\"coef : {model.coef_}\")\n",
        "print(f\"intercept : {model.intercept_}\")\n",
        "print(f\"predict : {model.predict(np.reshape([30.5], (1, -1)))}\")\n",
        "\n",
        "print(model.score(test_data[predictors], test_data[target]))\n",
        "print(metrics.r2_score(test_data[target], model.predict(test_data[predictors])))\n"
      ],
      "execution_count": null,
      "outputs": [
        {
          "output_type": "stream",
          "text": [
            "coef : [10.11594319]\n",
            "intercept : -114.06609690811078\n",
            "predict : [194.47017036]\n",
            "0.49091505719662387\n",
            "0.49091505719662387\n"
          ],
          "name": "stdout"
        }
      ]
    },
    {
      "cell_type": "markdown",
      "metadata": {
        "id": "VjiM6L5Laaba"
      },
      "source": [
        "### BP"
      ]
    },
    {
      "cell_type": "code",
      "metadata": {
        "id": "ks-8JePaZTs6",
        "colab": {
          "base_uri": "https://localhost:8080/"
        },
        "outputId": "6e1df8db-4529-489a-9d48-4fe0da0cc5bf"
      },
      "source": [
        "predictors = [\"BP\"]\n",
        "target = \"Y\"\n",
        "\n",
        "model = linear_model.LinearRegression()\n",
        "\n",
        "model.fit(train_data[predictors], train_data[target])\n",
        "print(f\"coef : {model.coef_}\")\n",
        "print(f\"intercept : {model.intercept_}\")\n",
        "print(f\"predict : {model.predict(np.reshape([100.0], (1, -1)))}\")\n",
        "\n",
        "print(model.score(test_data[predictors], test_data[target]))\n",
        "print(metrics.r2_score(test_data[target], model.predict(test_data[predictors])))"
      ],
      "execution_count": null,
      "outputs": [
        {
          "output_type": "stream",
          "text": [
            "coef : [2.43825766]\n",
            "intercept : -77.72237794483684\n",
            "predict : [166.10338839]\n",
            "0.1991894239332853\n",
            "0.19918942393328531\n"
          ],
          "name": "stdout"
        }
      ]
    },
    {
      "cell_type": "markdown",
      "metadata": {
        "id": "q6U7Bf5CapAT"
      },
      "source": [
        "### Multi-Variable Linear Regression = BMI, BP"
      ]
    },
    {
      "cell_type": "code",
      "metadata": {
        "id": "TKqvzFp5at4o",
        "colab": {
          "base_uri": "https://localhost:8080/"
        },
        "outputId": "48714065-0992-4724-96c9-fa92dcf38aae"
      },
      "source": [
        "predictors = [\"BMI\", \"BP\"]\n",
        "target = \"Y\"\n",
        "\n",
        "model = linear_model.LinearRegression()\n",
        "\n",
        "model.fit(train_data[predictors], train_data[target])\n",
        "print(f\"coef: {model.coef_}\")\n",
        "print(f\"intercept: {model.intercept_}\")\n",
        "print(f\"predict: {model.predict(np.reshape([30.5, 100.0], (1, -1)))}\")\n",
        "\n",
        "print(model.score(test_data[predictors], test_data[target]))\n",
        "print(metrics.r2_score(test_data[target], model.predict(test_data[predictors])))"
      ],
      "execution_count": null,
      "outputs": [
        {
          "output_type": "stream",
          "text": [
            "coef: [8.42629323 1.40835103]\n",
            "intercept: -202.8237181361084\n",
            "predict: [195.01332869]\n",
            "0.4890345591616515\n",
            "0.4890345591616515\n"
          ],
          "name": "stdout"
        }
      ]
    },
    {
      "cell_type": "code",
      "metadata": {
        "id": "RIniHYcnopDy",
        "colab": {
          "base_uri": "https://localhost:8080/"
        },
        "outputId": "6aaa7e49-c41b-46d5-e992-8d10b5074190"
      },
      "source": [
        "target = \"Y\"\n",
        "\n",
        "model = linear_model.LinearRegression()\n",
        "\n",
        "for ext_predictors in [\"AGE\", \"SEX\", \"S1\", \"S2\", \"S3\", \"S4\", \"S5\", \"S6\"]:\n",
        "  predictors = [\"BMI\", \"BP\", ext_predictors]\n",
        "  model.fit(train_data[predictors], train_data[target])\n",
        "  print(ext_predictors)\n",
        "  print(f\"coef: {model.coef_}\")\n",
        "  print(f\"intercept: {model.intercept_}\")\n",
        "\n",
        "  print(model.score(test_data[predictors], test_data[target]))\n",
        "  print(metrics.r2_score(test_data[target], model.predict(test_data[predictors])))\n",
        "  print()"
      ],
      "execution_count": null,
      "outputs": [
        {
          "output_type": "stream",
          "text": [
            "AGE\n",
            "coef: [8.40162541 1.37523807 0.11680303]\n",
            "intercept: -204.71023646921\n",
            "0.4855490523808105\n",
            "0.4855490523808105\n",
            "\n",
            "SEX\n",
            "coef: [ 8.4119794   1.48546051 -9.35638375]\n",
            "intercept: -196.02694946034015\n",
            "0.49962519148305523\n",
            "0.4996251914830552\n",
            "\n",
            "S1\n",
            "coef: [8.31903158 1.37696057 0.07209513]\n",
            "intercept: -210.61893579088715\n",
            "0.4904422013213202\n",
            "0.4904422013213202\n",
            "\n",
            "S2\n",
            "coef: [ 8.42771458e+00  1.40853600e+00 -8.88400489e-04]\n",
            "intercept: -202.77665681389763\n",
            "0.4890347275690838\n",
            "0.4890347275690837\n",
            "\n",
            "S3\n",
            "coef: [ 7.16791908  1.37863004 -1.23586397]\n",
            "intercept: -105.32697707532438\n",
            "0.47150563225915687\n",
            "0.47150563225915687\n",
            "\n",
            "S4\n",
            "coef: [ 7.0656779   1.28946623 12.24059487]\n",
            "intercept: -205.3805451594877\n",
            "0.4956729592855375\n",
            "0.49567295928553756\n",
            "\n",
            "S5\n",
            "coef: [ 6.46154505  0.92903375 48.91662988]\n",
            "intercept: -332.6127825796426\n",
            "0.5997841207001899\n",
            "0.5997841207001899\n",
            "\n",
            "S6\n",
            "coef: [7.78437116 1.20010115 0.89010844]\n",
            "intercept: -247.22600834060594\n",
            "0.44905656862056964\n",
            "0.44905656862056964\n",
            "\n"
          ],
          "name": "stdout"
        }
      ]
    },
    {
      "cell_type": "markdown",
      "metadata": {
        "id": "O4QakGRWIkdv"
      },
      "source": [
        "## Code for Q2\n",
        "\n",
        "For the given dataset in the following code, perform a logistic regression to answer to the questions in [HW 13].\n",
        "\n",
        "Do not change train_data and test_data."
      ]
    },
    {
      "cell_type": "code",
      "metadata": {
        "id": "9iu5cUKKIxSn",
        "colab": {
          "base_uri": "https://localhost:8080/",
          "height": 224
        },
        "outputId": "531c5761-a38e-4d13-e166-5dd8080ebce0"
      },
      "source": [
        "import numpy as np\n",
        "import pandas as pd\n",
        "from sklearn import linear_model\n",
        "from sklearn import metrics\n",
        "from sklearn.model_selection import train_test_split\n",
        "import seaborn as sn\n",
        "import matplotlib.pyplot as plt\n",
        "\n",
        "data = pd.read_csv('https://raw.githubusercontent.com/inetguru/IDS-CB35533/main/pima_diabetes.csv')\n",
        "\n",
        "train_data, test_data = train_test_split(data, train_size=0.8, random_state=1)\n",
        "train_data.head()"
      ],
      "execution_count": null,
      "outputs": [
        {
          "output_type": "execute_result",
          "data": {
            "text/html": [
              "<div>\n",
              "<style scoped>\n",
              "    .dataframe tbody tr th:only-of-type {\n",
              "        vertical-align: middle;\n",
              "    }\n",
              "\n",
              "    .dataframe tbody tr th {\n",
              "        vertical-align: top;\n",
              "    }\n",
              "\n",
              "    .dataframe thead th {\n",
              "        text-align: right;\n",
              "    }\n",
              "</style>\n",
              "<table border=\"1\" class=\"dataframe\">\n",
              "  <thead>\n",
              "    <tr style=\"text-align: right;\">\n",
              "      <th></th>\n",
              "      <th>Pregnancies</th>\n",
              "      <th>Glucose</th>\n",
              "      <th>BloodPressure</th>\n",
              "      <th>SkinThickness</th>\n",
              "      <th>Insulin</th>\n",
              "      <th>BMI</th>\n",
              "      <th>DiabetesPedigreeFunction</th>\n",
              "      <th>Age</th>\n",
              "      <th>Outcome</th>\n",
              "    </tr>\n",
              "  </thead>\n",
              "  <tbody>\n",
              "    <tr>\n",
              "      <th>663</th>\n",
              "      <td>9</td>\n",
              "      <td>145</td>\n",
              "      <td>80</td>\n",
              "      <td>46</td>\n",
              "      <td>130</td>\n",
              "      <td>37.9</td>\n",
              "      <td>0.637</td>\n",
              "      <td>40</td>\n",
              "      <td>1</td>\n",
              "    </tr>\n",
              "    <tr>\n",
              "      <th>712</th>\n",
              "      <td>10</td>\n",
              "      <td>129</td>\n",
              "      <td>62</td>\n",
              "      <td>36</td>\n",
              "      <td>0</td>\n",
              "      <td>41.2</td>\n",
              "      <td>0.441</td>\n",
              "      <td>38</td>\n",
              "      <td>1</td>\n",
              "    </tr>\n",
              "    <tr>\n",
              "      <th>161</th>\n",
              "      <td>7</td>\n",
              "      <td>102</td>\n",
              "      <td>74</td>\n",
              "      <td>40</td>\n",
              "      <td>105</td>\n",
              "      <td>37.2</td>\n",
              "      <td>0.204</td>\n",
              "      <td>45</td>\n",
              "      <td>0</td>\n",
              "    </tr>\n",
              "    <tr>\n",
              "      <th>509</th>\n",
              "      <td>8</td>\n",
              "      <td>120</td>\n",
              "      <td>78</td>\n",
              "      <td>0</td>\n",
              "      <td>0</td>\n",
              "      <td>25.0</td>\n",
              "      <td>0.409</td>\n",
              "      <td>64</td>\n",
              "      <td>0</td>\n",
              "    </tr>\n",
              "    <tr>\n",
              "      <th>305</th>\n",
              "      <td>2</td>\n",
              "      <td>120</td>\n",
              "      <td>76</td>\n",
              "      <td>37</td>\n",
              "      <td>105</td>\n",
              "      <td>39.7</td>\n",
              "      <td>0.215</td>\n",
              "      <td>29</td>\n",
              "      <td>0</td>\n",
              "    </tr>\n",
              "  </tbody>\n",
              "</table>\n",
              "</div>"
            ],
            "text/plain": [
              "     Pregnancies  Glucose  ...  Age  Outcome\n",
              "663            9      145  ...   40        1\n",
              "712           10      129  ...   38        1\n",
              "161            7      102  ...   45        0\n",
              "509            8      120  ...   64        0\n",
              "305            2      120  ...   29        0\n",
              "\n",
              "[5 rows x 9 columns]"
            ]
          },
          "metadata": {
            "tags": []
          },
          "execution_count": 22
        }
      ]
    },
    {
      "cell_type": "code",
      "metadata": {
        "id": "r_rYMmAaan4D"
      },
      "source": [
        "# Set predictors and target\n",
        "predictors = [\"BMI\"]\n",
        "target = \"Outcome\""
      ],
      "execution_count": null,
      "outputs": []
    },
    {
      "cell_type": "code",
      "metadata": {
        "id": "Diw2pzHzaog2"
      },
      "source": [
        "# Generate a model instance for logistic regression\n",
        "model = linear_model.LogisticRegression()"
      ],
      "execution_count": null,
      "outputs": []
    },
    {
      "cell_type": "code",
      "metadata": {
        "id": "R5sWB5QCo5-I",
        "colab": {
          "base_uri": "https://localhost:8080/"
        },
        "outputId": "3c529a6b-c3ac-4c2c-918b-3be86fbe548c"
      },
      "source": [
        "# Perform Fit/Train, Check/print out the coefficients of your model\n",
        "model.fit(train_data[predictors], train_data[target])\n",
        "print(model.coef_)\n",
        "print(model.intercept_)"
      ],
      "execution_count": null,
      "outputs": [
        {
          "output_type": "stream",
          "text": [
            "[[0.08935114]]\n",
            "[-3.5383364]\n"
          ],
          "name": "stdout"
        }
      ]
    },
    {
      "cell_type": "code",
      "metadata": {
        "id": "BuwcMa5Mo7ia",
        "colab": {
          "base_uri": "https://localhost:8080/"
        },
        "outputId": "bbeb8c93-ddc9-440b-db93-58df34c7db13"
      },
      "source": [
        "# Evaluate the model using the test data.\n",
        "print(model.score(test_data[predictors], test_data[target]))"
      ],
      "execution_count": null,
      "outputs": [
        {
          "output_type": "stream",
          "text": [
            "0.6688311688311688\n"
          ],
          "name": "stdout"
        }
      ]
    },
    {
      "cell_type": "code",
      "metadata": {
        "id": "Vh04Vuqfo-r-",
        "colab": {
          "base_uri": "https://localhost:8080/"
        },
        "outputId": "bc81ea4b-7cfd-4f5c-a8c5-5784c10cf38b"
      },
      "source": [
        "data = pd.read_csv('https://raw.githubusercontent.com/inetguru/IDS-CB35533/main/pima_diabetes.csv')\n",
        "train_data, test_data = train_test_split(data, train_size=0.8, random_state=1)\n",
        "target = \"Outcome\"\n",
        "model = linear_model.LogisticRegression()\n",
        "for predictor in [\"Pregnancies\",\"Glucose\",\t\"BloodPressure\",\t\"SkinThickness\", \"Insulin\", \"BMI\",\t\"DiabetesPedigreeFunction\",\t\"Age\"]:\n",
        "  predictors = [predictor]\n",
        "  model.fit(train_data[predictors], train_data[target])\n",
        "  pdt = model.predict(test_data[predictors])\n",
        "  print(f\"Accuracy ({predictors}):\", metrics.accuracy_score(test_data[target], pdt))\n",
        "  print(model.score(test_data[predictors], test_data[target]))\n",
        "  print(f\"coef: {model.coef_}\")\n",
        "  print(f\"intercept: {model.intercept_}\")\n",
        "  print()"
      ],
      "execution_count": null,
      "outputs": [
        {
          "output_type": "stream",
          "text": [
            "Accuracy (['Pregnancies']): 0.6688311688311688\n",
            "0.6688311688311688\n",
            "coef: [[0.13108641]]\n",
            "intercept: [-1.16423849]\n",
            "\n",
            "Accuracy (['Glucose']): 0.7597402597402597\n",
            "0.7597402597402597\n",
            "coef: [[0.03903946]]\n",
            "intercept: [-5.51983416]\n",
            "\n",
            "Accuracy (['BloodPressure']): 0.6428571428571429\n",
            "0.6428571428571429\n",
            "coef: [[0.00278975]]\n",
            "intercept: [-0.82527345]\n",
            "\n",
            "Accuracy (['SkinThickness']): 0.6428571428571429\n",
            "0.6428571428571429\n",
            "coef: [[0.00782097]]\n",
            "intercept: [-0.79001536]\n",
            "\n",
            "Accuracy (['Insulin']): 0.6428571428571429\n",
            "0.6428571428571429\n",
            "coef: [[0.00259325]]\n",
            "intercept: [-0.84680173]\n",
            "\n",
            "Accuracy (['BMI']): 0.6688311688311688\n",
            "0.6688311688311688\n",
            "coef: [[0.08935114]]\n",
            "intercept: [-3.5383364]\n",
            "\n",
            "Accuracy (['DiabetesPedigreeFunction']): 0.6753246753246753\n",
            "0.6753246753246753\n",
            "coef: [[0.96465375]]\n",
            "intercept: [-1.09068646]\n",
            "\n",
            "Accuracy (['Age']): 0.6493506493506493\n",
            "0.6493506493506493\n",
            "coef: [[0.03995361]]\n",
            "intercept: [-1.98877127]\n",
            "\n"
          ],
          "name": "stdout"
        }
      ]
    },
    {
      "cell_type": "code",
      "metadata": {
        "id": "Nv03KSA9o_8U",
        "colab": {
          "base_uri": "https://localhost:8080/",
          "height": 333
        },
        "outputId": "55296dba-3f47-444a-973a-4e07e132706f"
      },
      "source": [
        "data = pd.read_csv('https://raw.githubusercontent.com/inetguru/IDS-CB35533/main/pima_diabetes.csv')\n",
        "train_data, test_data = train_test_split(data, train_size=0.8, random_state=1)\n",
        "target = \"Outcome\"\n",
        "predictors = [\"Pregnancies\", \"Glucose\", \"Insulin\"]\n",
        "\n",
        "model = linear_model.LogisticRegression()\n",
        "model.fit(train_data[predictors], train_data[target])\n",
        "print(\"Predict(10, 150, 10):\", model.predict(np.reshape([10, 150, 10], (1, -1))))\n",
        "pdt = model.predict(test_data[predictors])\n",
        "print(f\"Accuracy ({predictors}):\", metrics.accuracy_score(test_data[target], pdt))\n",
        "print(model.score(test_data[predictors], test_data[target]))\n",
        "\n",
        "confusion_matrix = pd.crosstab(test_data[target], pdt, rownames=[\"Actual\"], colnames=[\"Predicted\"])\n",
        "sn.heatmap(confusion_matrix, annot=True)\n",
        "plt.show()"
      ],
      "execution_count": null,
      "outputs": [
        {
          "output_type": "stream",
          "text": [
            "Predict(10, 150, 10): [1]\n",
            "Accuracy (['Pregnancies', 'Glucose', 'Insulin']): 0.7272727272727273\n",
            "0.7272727272727273\n"
          ],
          "name": "stdout"
        },
        {
          "output_type": "display_data",
          "data": {
            "image/png": "[encoded data removed]",
            "text/plain": [
              "<Figure size 432x288 with 2 Axes>"
            ]
          },
          "metadata": {
            "tags": [],
            "needs_background": "light"
          }
        }
      ]
    },
    {
      "cell_type": "code",
      "metadata": {
        "id": "DPOi-GuKpBgS"
      },
      "source": [
        ""
      ],
      "execution_count": null,
      "outputs": []
    }
  ]
}