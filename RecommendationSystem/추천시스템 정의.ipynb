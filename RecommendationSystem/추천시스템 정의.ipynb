{
 "cells": [
  {
   "cell_type": "markdown",
   "id": "5037b97f",
   "metadata": {},
   "source": [
    "### `E-commerce`, `콘텐츠` 등 -> `추천 시스템` 사용!\n",
    "\n",
    "- 사용자에게 맞춤 콘텐츠를 제공\n",
    "\n",
    "### 추천 엔진의 필요성\n",
    "- 너무 많은 상품으로 가득 찬 온라인 스토어\n",
    "- 한정된 시간, 어떤 상품을 골라야 할지 선택의 압박\n",
    "\n",
    "> 기업에게는 비즈니스를 위해, 고객에게는 이용 즐거움을 위해 추천 시스템을 적용\n",
    "\n",
    "- 사용자가 어떤 상품을 구매했는가?\n",
    "- 사용자가 어떤 제품을 Browse했는가?\n",
    "- 사용자가 무엇을 클릭했는가?\n",
    "- 사용자가 평가한 영화 평점은?\n",
    "\n",
    "> - 당신만을 위한 최신 상품\n",
    "> - 이 상품을 선택한 다른 사람들이 좋아하는 상품들\n",
    "> - 이 상품을 좋아하시나요? 아래 있는 다른 상품은 어떠신가요?\n",
    "\n",
    "- 추천 시스템의 묘미는 사용자 자신도 좋아하는지 모르고 있었던 취향을 발견하는 것이다.\n",
    "- 정교한 추천 시스템은 사용자에게 높은 신뢰도를 얻게 되며, 맹목적으로 사용자가 이에 의존하게 만든다.\n",
    "    - 이를 기반으로 서비스 프로바이더는 고객 충성도를 크게 향상시킬 수 있다.\n",
    "    \n",
    "### 추천 시스템 방식\n",
    "#### 콘텐츠 기반 필터링\n",
    "  - ex) 영화 : 감독, 장르, 취향 등 반영\n",
    "  \n",
    "#### 협업 필터링\n",
    "  - ex) 내가 선택한 상품들이 다른 사람이 선택한 상품들과 비슷한 경우\n",
    "  \n",
    "> 추천 시스템은 이들 방식 중 1가지를 선택하거나 이들을 결합하여 hybrid로 사용\n",
    "\n",
    "#### 하이브리드 기반 추천\n",
    "- 넷플릭스의 경우 자사가 생성한 콘텐츠 위주로 추천 영화가 치우치는 경향이 시작됨\n"
   ]
  },
  {
   "cell_type": "markdown",
   "id": "1aacbaeb",
   "metadata": {},
   "source": [
    "### 콘텐츠 기반 필터링(Contents Based Filtering)\n",
    "- 사용자 선호 프로파일\n",
    "  - ex) 영화 : 감독, 배우, 영화 설명, 장르 등 영화를 구성하는 다양한 콘텐츠들을 텍스트 기반 문서 유사도로 비교하여 추천\n",
    "  \n",
    "> 영화 구성 콘텐츠 텍스트 -> 피처 벡터화(Count, TF-IDF) -> 코사인 유사도 -> 유사도 및 평점에 따른 영화 추천\n",
    "\n",
    "#### 주요 프로세스\n",
    "1. 콘텐츠에 대한 여러 텍스트 정보들을 피처 벡터화\n",
    "2. 코사인 유사도로 콘텐츠별 유사도 계산\n",
    "3. 콘텐츠 별로 가중 평점을 계산\n",
    "4. 유사도가 높은 콘텐츠 중에 평점이 좋은 콘텐츠 순으로 추천\n",
    "\n"
   ]
  },
  {
   "cell_type": "markdown",
   "id": "3ea343c0",
   "metadata": {},
   "source": [
    "#### Reference\n",
    "- https://www.inflearn.com/course/%ED%8C%8C%EC%9D%B4%EC%8D%AC-%EB%A8%B8%EC%8B%A0%EB%9F%AC%EB%8B%9D-%EC%99%84%EB%B2%BD%EA%B0%80%EC%9D%B4%EB%93%9C"
   ]
  },
  {
   "cell_type": "code",
   "execution_count": null,
   "id": "a6d6bb2c",
   "metadata": {},
   "outputs": [],
   "source": []
  }
 ],
 "metadata": {
  "kernelspec": {
   "display_name": "Python 3",
   "language": "python",
   "name": "python3"
  },
  "language_info": {
   "codemirror_mode": {
    "name": "ipython",
    "version": 3
   },
   "file_extension": ".py",
   "mimetype": "text/x-python",
   "name": "python",
   "nbconvert_exporter": "python",
   "pygments_lexer": "ipython3",
   "version": "3.8.8"
  }
 },
 "nbformat": 4,
 "nbformat_minor": 5
}
