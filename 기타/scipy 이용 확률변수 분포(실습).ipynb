{
  "nbformat": 4,
  "nbformat_minor": 0,
  "metadata": {
    "colab": {
      "name": "강민진 - IDS HW 04-2.ipynb",
      "provenance": [],
      "collapsed_sections": []
    },
    "kernelspec": {
      "name": "python3",
      "display_name": "Python 3"
    },
    "language_info": {
      "name": "python"
    }
  },
  "cells": [
    {
      "cell_type": "markdown",
      "metadata": {
        "id": "VjwU7EPyKd4i"
      },
      "source": [
        "#HW 04-2. 확률 계산하기\n",
        "\n",
        "1. T1~T5의 확률 문제를 분석하여 문제 해결과 관련한 확률 변수/분포를 파악하라.\n",
        "1. [scipy.stats](https://docs.scipy.org/doc/scipy/reference/stats.html) package를 활용하여 주어진 문제에서 요구하는 확률 값을 계산하는 코드를 작성하라.\n",
        "1. 계산 결과를 Google Form 형식 퀴즈의 답으로 입력하라 "
      ]
    },
    {
      "cell_type": "markdown",
      "metadata": {
        "id": "AfWkS101PMVp"
      },
      "source": [
        "##T1. 생일이 같은 사람이 존재할 확률 계산하기\n",
        "* $N$명의 사람으로 이뤄진 모임이 있다.\n",
        "* 모임의 사람들의 생일간에는 특별한 연관성이 없다고 가정한다. \n",
        "* 즉 어떤 사람의 생일은 1년 366일 (2월 29일도 포함) 중 하루를 모두 같은 확률 (1/366)로 가진다.\n",
        "\n",
        "1.   $N=10$인 모임에서 생일이 같은 사람이 존재할 확률은 얼마나 되나?\n",
        "2.  $N$이 몇 명 이상(Equal or Greater than)이면 생일이 같은 사람이 존재할 확률이 50% 이상이 될까? \n",
        "\n",
        "필요하다면 scipy.special package의 [perm](https://docs.scipy.org/doc/scipy/reference/generated/scipy.special.perm.html#scipy.special.perm) (순열, Permutation), [comb](https://docs.scipy.org/doc/scipy/reference/generated/scipy.special.comb.html#scipy.special.comb) (조합, Combination) 함수를 사용하라.\n",
        "\n",
        "*주어진 코드는 단순 참고용이다.*"
      ]
    },
    {
      "cell_type": "code",
      "metadata": {
        "id": "RQnLqwGcOFDG"
      },
      "source": [
        "import numpy as np\n",
        "import scipy.special as sp\n",
        "# N=np.arange(1,3)\n",
        "\n",
        "# P_all_different = 366*365/(366**2)\n",
        "P_all_different = sp.perm(366, 10)/(366**10)\n",
        "\n",
        "# print(P_all_different, sp.perm(366,N), sp.comb(366,N))"
      ],
      "execution_count": 7,
      "outputs": []
    },
    {
      "cell_type": "markdown",
      "metadata": {
        "id": "8PjK96sBmyBn"
      },
      "source": [
        "### (1) 0.11664541180399979"
      ]
    },
    {
      "cell_type": "code",
      "metadata": {
        "colab": {
          "base_uri": "https://localhost:8080/"
        },
        "id": "kWLjYQR3lfLk",
        "outputId": "d811287a-e359-4f23-9091-3ce7337fb493"
      },
      "source": [
        "p = 1 - P_all_different\n",
        "print(p)"
      ],
      "execution_count": 9,
      "outputs": [
        {
          "output_type": "stream",
          "text": [
            "0.11664541180399979\n"
          ],
          "name": "stdout"
        }
      ]
    },
    {
      "cell_type": "markdown",
      "metadata": {
        "id": "6hiR68Qtndm_"
      },
      "source": [
        "### (2) 23"
      ]
    },
    {
      "cell_type": "code",
      "metadata": {
        "colab": {
          "base_uri": "https://localhost:8080/"
        },
        "id": "KpaOI0LunEKK",
        "outputId": "bbb769d8-4e39-4d59-cd66-8e3c346c62fb"
      },
      "source": [
        "for i in range(1, 1000000):\n",
        "  P_all_different = sp.perm(366, i)/(366**i)\n",
        "  p = 1 - P_all_different\n",
        "  if p >= 0.5:\n",
        "    print(i, p)\n",
        "    break"
      ],
      "execution_count": 12,
      "outputs": [
        {
          "output_type": "stream",
          "text": [
            "23 0.5063230118194599\n"
          ],
          "name": "stdout"
        }
      ]
    },
    {
      "cell_type": "markdown",
      "metadata": {
        "id": "vmZ0H_EPSw50"
      },
      "source": [
        "##T2. 주사위 던지기 확률 계산하기\n",
        "* 주사위를 100번 던져 6이 나오는 횟수와 관련한 확률을 구하려 한다.\n",
        "1. 6이 나오는 횟수가 20번 이상일 확률은 얼마인가?\n",
        "1. 6이 나오는 횟수가 5번 이하일 확률은 얼마인가?\n",
        "\n",
        "필요하다면 [scipy.stats](https://docs.scipy.org/doc/scipy/reference/stats.html) package의 확률분포 함수를 사용하라.\n",
        "\n",
        "*주어진 코드는 단순 참고용이다*"
      ]
    },
    {
      "cell_type": "markdown",
      "metadata": {
        "id": "wqkvwS7ypb8w"
      },
      "source": [
        "### (3) 0.21974984306261447"
      ]
    },
    {
      "cell_type": "code",
      "metadata": {
        "colab": {
          "base_uri": "https://localhost:8080/"
        },
        "id": "iVTJmNlLSwXB",
        "outputId": "c993241f-9c47-4714-b3a1-a25b604dda2f"
      },
      "source": [
        "import scipy.stats as stats\n",
        "\n",
        "# Binomial Random Variable/Distribution\n",
        "n, p = 100, 1/6\n",
        "k = 20\n",
        "rv = stats.binom(n,p)\n",
        "print(f\"Pr(X<={k})={1 - rv.cdf(k-1)}\") # 1 - P(X <= 19)\n",
        "\n",
        "sum = 0\n",
        "for i in range(20, 101):\n",
        "  print(i, end = \" \")\n",
        "  sum += rv.pmf(i)\n",
        "print()\n",
        "print(sum)"
      ],
      "execution_count": 25,
      "outputs": [
        {
          "output_type": "stream",
          "text": [
            "Pr(X<=20)=0.21974984306261447\n",
            "20 21 22 23 24 25 26 27 28 29 30 31 32 33 34 35 36 37 38 39 40 41 42 43 44 45 46 47 48 49 50 51 52 53 54 55 56 57 58 59 60 61 62 63 64 65 66 67 68 69 70 71 72 73 74 75 76 77 78 79 80 81 82 83 84 85 86 87 88 89 90 91 92 93 94 95 96 97 98 99 100 \n",
            "0.21974984306261083\n"
          ],
          "name": "stdout"
        }
      ]
    },
    {
      "cell_type": "markdown",
      "metadata": {
        "id": "8TwhtOq7pfxn"
      },
      "source": [
        "### (4) 0.0003849232800486593"
      ]
    },
    {
      "cell_type": "code",
      "metadata": {
        "colab": {
          "base_uri": "https://localhost:8080/"
        },
        "id": "uLqikPz1oo9U",
        "outputId": "38eff50f-44f1-49aa-a53e-1bff56c8e145"
      },
      "source": [
        "n, p = 100, 1/6\n",
        "k = 5\n",
        "rv = stats.binom(n,p)\n",
        "print(f\"Pr(X<={k})={rv.cdf(k)}\")\n",
        "\n",
        "sum = 0\n",
        "for i in range(0, 6):\n",
        "  print(i, end = \" \")\n",
        "  sum += rv.pmf(i)\n",
        "print()\n",
        "print(sum)"
      ],
      "execution_count": 24,
      "outputs": [
        {
          "output_type": "stream",
          "text": [
            "Pr(X<=5)=0.0003849232800486593\n",
            "0 1 2 3 4 5 \n",
            "0.0003849232800486668\n"
          ],
          "name": "stdout"
        }
      ]
    },
    {
      "cell_type": "markdown",
      "metadata": {
        "id": "ftLz1WfKY3Nl"
      },
      "source": [
        "##T3. A형 간염 보균자 확률 계산하기\n",
        "* 부산대학교 병원은 오랜 기간의 임상 조사와 분석을 통해 한국인의 A형 간염 보균과 관련한 특성을 얻었다.\n",
        "* 결과에 따르면 한국인 10,000명당 평균 16명이 A형 간염균을 가지고 있는 것으로 파악되었다.\n",
        "* 부산대학교 병원은 부산대학교 정보컴퓨터공학부에 재학 중인 학생 1,000명에 대해 A형 간염 보균 여부를 확인하는 검사를 시행할 계획이다.\n",
        "\n",
        "1.  검사 결과 1,000명의 학생 중 A형 간염 보균자가 없을 (0명) 확률은 얼마인가?\n",
        "1. 1,000명의 학생 중 A형 간염 보균자의 수가 5명 이상일 확률은 얼마인가?"
      ]
    },
    {
      "cell_type": "markdown",
      "metadata": {
        "id": "h7MzENXeuMYr"
      },
      "source": [
        "### (5) 0.023576401080742024"
      ]
    },
    {
      "cell_type": "code",
      "metadata": {
        "colab": {
          "base_uri": "https://localhost:8080/"
        },
        "id": "Sms8DzIza2vP",
        "outputId": "9c856dd7-a587-4f35-9fdf-cf74ff564666"
      },
      "source": [
        "import numpy as np\n",
        "import scipy.stats as stats\n",
        "n, p = 1000, 16/10000\n",
        "ks = np.arange(5, 1001)\n",
        "rv = stats.binom(n,p)\n",
        "print(f\"Pr({ks[5]} <= X <= {ks[-1]})={np.sum(rv.pmf(ks))}\")"
      ],
      "execution_count": 40,
      "outputs": [
        {
          "output_type": "stream",
          "text": [
            "Pr(10 <= X <= 1000)=0.023576401080742024\n"
          ],
          "name": "stdout"
        }
      ]
    },
    {
      "cell_type": "markdown",
      "metadata": {
        "id": "1fkCTmbTuOVi"
      },
      "source": [
        "### (6) 0.20163798014067333"
      ]
    },
    {
      "cell_type": "code",
      "metadata": {
        "colab": {
          "base_uri": "https://localhost:8080/"
        },
        "id": "9KZUvfr3tKrB",
        "outputId": "90a30670-65c5-4a17-ff57-60382058240f"
      },
      "source": [
        "ks = 0\n",
        "rv = stats.binom(n, p)\n",
        "print(f\"Pr({ks}) = {rv.pmf(ks)}\")"
      ],
      "execution_count": 41,
      "outputs": [
        {
          "output_type": "stream",
          "text": [
            "Pr(0) = 0.20163798014067333\n"
          ],
          "name": "stdout"
        }
      ]
    },
    {
      "cell_type": "markdown",
      "metadata": {
        "id": "mM6bhymtWufB"
      },
      "source": [
        "##T4. 콜센터(Call Center) 통화 시간 길이 확률 계산하기\n",
        "* 어떤 금융 회사 콜 센터(Call Center)는 오랜 기간의 경험과 기록 분석을 통해 고객 서비스를 위한 통화 시간 길이의 특성을 얻었다\n",
        "* 분석 결과 고객 서비스를 위한 통화 시간은 서로 독립이며 (Independent)\n",
        " 그 길이는 평균은 4 분(minute)이었다.\n",
        "\n",
        " 1. 어떤 고객과의 통화가 1분 이내에 끝날 확률은 얼마인가 ?\n",
        " 1. 어떤 고객과의 통화가 8분 이상 걸릴 확률은 얼마인가?  "
      ]
    },
    {
      "cell_type": "markdown",
      "metadata": {
        "id": "zU6pGiyX6l2Z"
      },
      "source": [
        "### (7) 0.22119921692859515\n",
        "### (8) 0.1353352832366127"
      ]
    },
    {
      "cell_type": "code",
      "metadata": {
        "colab": {
          "base_uri": "https://localhost:8080/"
        },
        "id": "UbT8kut1bjD0",
        "outputId": "b0ffe141-56e5-4c56-a1b7-c322435a772a"
      },
      "source": [
        "import scipy.stats as stats\n",
        "# rv = stats.uniform(2,3)\n",
        "rv = stats.expon(scale = 4)\n",
        "print(f\"E(x) = {rv.mean()}\")\n",
        "left_end = 0\n",
        "right_end = 1\n",
        "\n",
        "print(f\"Pr({left_end} <= X < {right_end}) = CDF({right_end}) - CDF({left_end}) = {rv.cdf(right_end)-rv.cdf(left_end)}\")\n",
        "print(f\"Pr(8) = {1 - rv.cdf(8)}\")"
      ],
      "execution_count": 87,
      "outputs": [
        {
          "output_type": "stream",
          "text": [
            "E(x) = 4.0\n",
            "Pr(0 <= X < 1) = CDF(1) - CDF(0) = 0.22119921692859515\n",
            "Pr(8) = 0.1353352832366127\n"
          ],
          "name": "stdout"
        }
      ]
    },
    {
      "cell_type": "code",
      "metadata": {
        "colab": {
          "base_uri": "https://localhost:8080/"
        },
        "id": "WBVayFRE5sm_",
        "outputId": "5875b791-336e-4d45-9952-1bba3a5127f7"
      },
      "source": [
        "print(rv)"
      ],
      "execution_count": 73,
      "outputs": [
        {
          "output_type": "stream",
          "text": [
            "<scipy.stats._distn_infrastructure.rv_frozen object at 0x7f3fd3a45950>\n"
          ],
          "name": "stdout"
        }
      ]
    },
    {
      "cell_type": "markdown",
      "metadata": {
        "id": "TLLDudM1joP9"
      },
      "source": [
        "##T5. IQ 확률 계산하기\n",
        "*  어떤 [조사](https://www.healthline.com/health/average-iq)에 따르면 한국인의 IQ는 평균이 106이라고 한다\n",
        "* IQ 값의 정규(Normal/Gaussian) 분포를 따르며 표준 편차는 15 정도인 것으로 파악된다.\n",
        "\n",
        "1. 임의로 선정한 어떤 한국인의 IQ 값이 120 이하일 확률은 얼마인가?\n",
        "2. 임의로 선정한 어떤 한국인의 IQ 값이 135 이상일 확률은 얼마인가?\n",
        "3. IQ 값이 상위 1%인 한국인은 IQ가 얼마보다 높아야 할까? (결과가 정수가 아닐 경우 반올림하여 답을 적어라)\n",
        "\n",
        "scipy.stats package는 분포에 대해 pmf/pdf, cdf 외에도 ppf() - percent point function - 라는 함수를 제공한다. ppf()는 cdf의 역함수이다. 예를 들어 CDF(x) =  0.9 (즉 Pr(X <= x) = 90%)인 x 값은 PPF(0.9)를 통해 구할 수 있다.  "
      ]
    },
    {
      "cell_type": "markdown",
      "metadata": {
        "id": "elDE04woz6aX"
      },
      "source": [
        "### (9) 0.8246760551477705\n",
        "\n",
        "### (10) 0.0309740757067406\n",
        "\n",
        "### (11) 141"
      ]
    },
    {
      "cell_type": "code",
      "metadata": {
        "colab": {
          "base_uri": "https://localhost:8080/"
        },
        "id": "vVQhdedemIjS",
        "outputId": "8d87e9dd-1bcd-43c0-9818-fb8ba16d3b16"
      },
      "source": [
        "import scipy.stats as stats\n",
        "# standard normal X ~ N(0,1^2)\n",
        "mu = 106\n",
        "sigma = 15\n",
        "rv = stats.norm(mu, sigma)\n",
        "\n",
        "# np.random.normal(mu,sigma, 1000)\n",
        "\n",
        "\n",
        "print(f\"Pr(X <= 120) = {rv.cdf(120)}\")\n",
        "print(f\"Pr(X >= 135) = {1- rv.cdf(134)}\")\n",
        "print(f\"Pr(X >= 0.99) = {rv.ppf(0.99)}\")"
      ],
      "execution_count": 61,
      "outputs": [
        {
          "output_type": "stream",
          "text": [
            "Pr(X <= 120) = 0.8246760551477705\n",
            "Pr(X >= 135) = 0.0309740757067406\n",
            "Pr(X >= 0.99)=140.8952181106126\n"
          ],
          "name": "stdout"
        }
      ]
    },
    {
      "cell_type": "code",
      "metadata": {
        "id": "noMmkuVMzHIl"
      },
      "source": [
        ""
      ],
      "execution_count": null,
      "outputs": []
    }
  ]
}