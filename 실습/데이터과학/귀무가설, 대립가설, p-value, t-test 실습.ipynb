{
  "nbformat": 4,
  "nbformat_minor": 0,
  "metadata": {
    "colab": {
      "name": "강민진 - IDS HW 05-2.ipynb",
      "provenance": [],
      "collapsed_sections": []
    },
    "kernelspec": {
      "name": "python3",
      "display_name": "Python 3"
    },
    "language_info": {
      "name": "python"
    }
  },
  "cells": [
    {
      "cell_type": "markdown",
      "metadata": {
        "id": "UyH_2M6VNWC_"
      },
      "source": [
        "# HW 05-2. Simple Hypothesis Testing using Simulation / $t$-test"
      ]
    },
    {
      "cell_type": "markdown",
      "metadata": {
        "id": "_3bBs8j_NeiU"
      },
      "source": [
        "##T1. Mind Reader\n",
        "Jin claims he can read minds. His friend Pedro asked him to guess a number he was thinking of between 1 and 7 (inclusive). Jin guessed Pedro's number correctly 4 out of 9 times.\n",
        "Let's test **the hypothesis that Jin cannot read minds and therefore has a chance of $\\dfrac{1}{7}$ of guessing the correct number each time** versus *the alternative that his chance is somehow greater*.\t\n",
        "\n",
        "### To Do\n",
        "* Complete the code below to perform **10000** simulations, each simulating **9** guesses with a chance of $\\dfrac{1}{7}$ being correct. \n",
        "\n",
        "* Analyze your simulation results and calculate the probability of having **4** or more correct guesses out of **9**. \n",
        "\n",
        "* Let's agree that if the observed outcome has a probability less than **1%** under the tested hypothesis, we will reject the hypothesis. What should you conclude regarding the hypothesis?\n",
        "\n",
        "---\n",
        "귀무가설은 정확히 추측할 확률이 $1/7$이라는 것이고, 대립가설은 $9$번했을 때 $4$번 정확히 추측하는 것이라고 한다.\n",
        "\n",
        "귀무가설의 확률에 따라 표본 $9$번 중에서 $4$번 이상 성공할 확률이 $p$-value : $0.0296$ 즉, 2.96%이며, 단측검정임을 고려하고, 문제에서 주어진 1%보다 높으므로 대립가설은 기각된다.\n"
      ]
    },
    {
      "cell_type": "code",
      "metadata": {
        "id": "cQV85hrGvS4x"
      },
      "source": [
        ""
      ],
      "execution_count": null,
      "outputs": []
    },
    {
      "cell_type": "code",
      "metadata": {
        "id": "GVNqrfm4NVQX",
        "colab": {
          "base_uri": "https://localhost:8080/"
        },
        "outputId": "5ac040ca-8e6b-491a-ba23-62f44d2b2ec3"
      },
      "source": [
        "import numpy as np\n",
        "import scipy.stats as stat\n",
        "\n",
        "np.random.seed(seed=1000)\n",
        "\n",
        "n_simulations = 10000\n",
        "n_sample = 9\n",
        "p_correct = 1/7\n",
        "\n",
        "bin_rv = stat.binom(n_sample, p_correct)\n",
        "\n",
        "rvals = bin_rv.rvs(n_simulations)\n",
        "\n",
        "print(sum(rvals>=4)/n_simulations)"
      ],
      "execution_count": null,
      "outputs": [
        {
          "output_type": "stream",
          "text": [
            "0.0296\n"
          ],
          "name": "stdout"
        }
      ]
    },
    {
      "cell_type": "markdown",
      "metadata": {
        "id": "Om7-oXNeYwmy"
      },
      "source": [
        "## T2. Foot Length\n",
        "\n",
        "Jun-Hwan found a report suggesting that teenagers' foot lengths are approximately normally distributed with a mean of $24\\text{ cm}$ and a standard deviation of $2.6\\text{ cm}$. Jun-Hwan wondered if this held true at his school, so he took a random sample of $n=9$ students. The mean foot length of students in his sample was $\\bar x=25.6\\text{ cm}$ \n",
        "\n",
        "You want to test $H_0 : \\mu = 24 \\text{ cm}$  vs.  $H_1 : \\mu > 24 \\text { cm}$ where $\\mu$ is the true mean of teenager's foot length.\n",
        "\n",
        "### To Do\n",
        "* Complete the code below to perform **10000** simulations, each simulating **9** lenghts from a normal population with a mean of $24 \\text{ cm}$ and standard deviation of $2.6 \\text{ cm}$. \n",
        "* Based on your simulated results, what is the approxiate $P$-value of the test ? Note the sample result was $\\bar x=25.6\\text{ cm}$\n",
        "* Consider 2 significance levels $\\alpha_1 = 0.05, \\alpha_2 = 0.01$ for the test\n",
        "\n",
        "---\n",
        "귀무가설은 십대의 발길이 평균($\\mu$)이 $24 cm$ 라는 것이며, 대립가설은 평균 발길이($\\mu$)가 $24 cm$를 넘는 $25.6 cm$라는 것이다. 모집단에 따라 시뮬레이션 수행 결과 $p$-value가 약 $0.0304$이며, 단측 검정이므로, \n",
        "- $\\alpha_1$ 의 유의수준인 $0.05$보다는 낮으므로 대립가설이 채택되지만,\n",
        "- $\\alpha_2$ 의 유의수준인 $0.01$보다 크므로 유의수준을 $\\alpha_2$로 두면 대립가설이 기각된다.\n"
      ]
    },
    {
      "cell_type": "code",
      "metadata": {
        "colab": {
          "base_uri": "https://localhost:8080/"
        },
        "id": "vx2pRL8UeebF",
        "outputId": "b1e41b14-168b-43aa-bc78-f61faad56474"
      },
      "source": [
        "import numpy as np\n",
        "import scipy.stats as stat\n",
        "np.random.seed(seed=1000)\n",
        "\n",
        "n_simulations = 10000\n",
        "mu = 24\n",
        "sigma = 2.6\n",
        "n_sample = 9\n",
        "\n",
        "n_rv = stat.norm(mu, sigma)\n",
        "\n",
        "rvals_array = n_rv.rvs(n_simulations*n_sample).reshape(n_simulations, n_sample)\n",
        "\n",
        "xbars = rvals_array.mean(1)\n",
        "\n",
        "print(sum(xbars>=25.6)/n_simulations)"
      ],
      "execution_count": null,
      "outputs": [
        {
          "output_type": "stream",
          "text": [
            "0.0304\n"
          ],
          "name": "stdout"
        }
      ]
    },
    {
      "cell_type": "markdown",
      "metadata": {
        "id": "ylDOmzwvhk89"
      },
      "source": [
        "## T3. One-sample $t$-test example - Energy Bar Test\n",
        "\n",
        "Imagine we have collected a random sample of **31** energy bars from a number of different stores to represent the population of energy bars available to the general consumer. The labels on the bars claim that each bar contains **20** grams of protein.\n",
        "\n",
        "You can find the actual protein contained in the collected energy bars in the variable -\"ebp_df\" in the code below (ebp stands for energy_bar_protein). It shows that some bars have less than 20 grams of protein. Other bars have more. \n",
        "\n",
        "You might think that the data support the idea that the labels are correct. Others might disagree. \n",
        "\n",
        "We decide to perform one-sample t-test to test the following hypotheses\n",
        "\n",
        "$H_0 : \\mu = 20 $  vs. $H_1 : \\mu \\ne 20 $  \n",
        "\n",
        "### To DO. \n",
        "* What is the degrees of freedom of the sample ?\n",
        "* Calculate the $t$-statistic and the $P$-value of the sample by completing the code below\n",
        "* For 2 significance levels $\\alpha_1 = 0.05, \\alpha_2 = 0.01$ for the test, what should you conclude regarding the hypothesis?\n",
        "\n",
        "\n",
        "---\n",
        "- 자유도(n-1) = $30$\n",
        "- $t$-statistic = 3.06683164, $P$-value = 0.00455262\n",
        "- 귀무가설은 에너지바의 평균이 20이라는 것이고, 대립가설은 에너지바의 평균이 20이 아니라는 것이다. 양측 검정. \n",
        "$p$-value는 $0.0046$이다.\n",
        "  - $\\alpha_1 = 0.05$, 따라서 $\\alpha_1$보다 $p$-value가 작으므로 유의수준으로 했을 시에 귀무가설이 기각되고, 대립가설은 통계적으로 유의하다.\n",
        "  - $\\alpha_2 = 0.01$, 따라서 $\\alpha_2$보다 $p$-value가 작으므로 유의수준으로 했을 시에 귀무가설이 기각되고, 대립가설은 통계적으로 유의하다.\n"
      ]
    },
    {
      "cell_type": "code",
      "metadata": {
        "colab": {
          "base_uri": "https://localhost:8080/"
        },
        "id": "oSkgfeXrijCN",
        "outputId": "2af9aa71-b93e-43ef-f59d-e52539fb8e07"
      },
      "source": [
        "import pandas as pd\n",
        "import scipy.stats as stat\n",
        "import math\n",
        "\n",
        "ebp_df = pd.DataFrame(data=[20.7, 27.46, 22.15, 19.85, 21.29, 24.75, 20.75, \n",
        "                               22.91, 25.34, 20.33, 21.54, 21.08, 22.14, 19.56, \n",
        "                               21.1, 18.04, 24.12, 19.95, 19.72, 18.28, 16.26, \n",
        "                               17.46, 20.53, 22.12, 25.06, 22.44, 19.08, 19.88, \n",
        "                               21.39, 22.33, 25.79], columns=['protein'])\n",
        "print(ebp_df.describe())\n",
        "\n",
        "\n",
        "\n",
        "# t_stat = (sample.mean()-20)/math.sqrt(sample.var()/sample.count())\n",
        "t_stat = (ebp_df.mean()-20)/math.sqrt(ebp_df.var()/ebp_df.count())\n",
        "print(t_stat)\n",
        "\n",
        "result1 = stat.ttest_1samp(ebp_df, 20)\n",
        "print(result1)\n"
      ],
      "execution_count": null,
      "outputs": [
        {
          "output_type": "stream",
          "text": [
            "         protein\n",
            "count  31.000000\n",
            "mean   21.400000\n",
            "std     2.541669\n",
            "min    16.260000\n",
            "25%    19.865000\n",
            "50%    21.100000\n",
            "75%    22.385000\n",
            "max    27.460000\n",
            "protein    3.066832\n",
            "dtype: float64\n",
            "Ttest_1sampResult(statistic=array([3.06683164]), pvalue=array([0.00455262]))\n"
          ],
          "name": "stdout"
        }
      ]
    },
    {
      "cell_type": "markdown",
      "metadata": {
        "id": "J8o4uHWvxE3G"
      },
      "source": [
        "## T4. One-Sample $t$-test Example - Height Test\n",
        "\n",
        "According to [KOSIS(KOrean Statistical Information Service : 국가통계포털)](https://kosis.kr/statHtml/statHtml.do?orgId=350&tblId=DT_35007_N130), \n",
        "the mean height of Korean men aged 20-29 years is about 174.21 cm in 2019.\n",
        "\n",
        "We got a sample of heights from 21 male students from PNU which is shown in the code below. The sample mean is a little higher than the mean height of Korean men aged 20-29. Let's test if the mean height of students at PNU is significantly taller than 174.21 using the one-sample $t$ test. The null and alternative hypotheses of this test will be:\n",
        "\n",
        "$H_0 : \\mu = 174.21$ vs. $ H_1 : \\mu > 174.21 $\n",
        "\n",
        "### To DO. \n",
        "* Calculate the $t$-statistic and the $P$-value of the sample by completing the code below\n",
        "* For 2 significance levels $\\alpha_1 = 0.1, \\alpha_2 = 0.05$ for the test, what should you conclude regarding the hypothesis?\n",
        "* Calculate confidence intervals for the mean height for 2 confidence levels 90% and 95%\n",
        "---\n",
        "$\\alpha_1 = 0.1, \\alpha_2 = 0.05$ 둘 다 $p$-value보다 작으므로 두 경우 모두 귀무가설이 채택된다.\n",
        "- 90% 의 평균 키의 신뢰구간은 173.484385 ~ 180.401329이다.\n",
        "- 95% 의 평균 키의 신뢰구간은 174.040211 ~ 179.845503 이다.\n",
        "\n"
      ]
    },
    {
      "cell_type": "code",
      "metadata": {
        "colab": {
          "base_uri": "https://localhost:8080/"
        },
        "id": "XIZRHNwv1VII",
        "outputId": "4e3e1ae7-8665-4294-b2a3-6e0cee294f06"
      },
      "source": [
        "import pandas as pd\n",
        "import scipy.stats as stat\n",
        "import math\n",
        "\n",
        "mu = 174.21\n",
        "\n",
        "sample_df = pd.DataFrame(data=[180.32, 178.71, 168.59, 176.30, 169.02,\n",
        " 168.76, 187.58, 188.54, 173.90, 177.67, 182.54, 178.34, 189.83, 171.16, \n",
        " 190.10, 176.75, 166.24, 175.25, 184.69, 164.73, 166.78], columns=['height'])\n",
        "\n",
        "print(sample_df.describe())\n",
        "\n",
        "t_stat = (sample_df.mean()-mu)/math.sqrt(sample_df.var()/sample_df.count())\n",
        "print(t_stat)\n",
        "\n",
        "result1 = stat.ttest_1samp(sample_df, mu)\n",
        "print(result1)\n",
        "\n",
        "max95 = sample_df.mean() + (1.96 * math.sqrt(sample_df.var()/sample_df.count()))\n",
        "min95 = sample_df.mean() - (1.96 * math.sqrt(sample_df.var()/sample_df.count()))\n",
        "max90 = sample_df.mean() + (1.645 * math.sqrt(sample_df.var()/sample_df.count()))\n",
        "min90 = sample_df.mean() - (1.645 * math.sqrt(sample_df.var()/sample_df.count()))\n",
        "print()\n",
        "print(max95)\n",
        "print(min95)\n",
        "print(max90)\n",
        "print(min90)\n",
        "\n",
        "print()\n",
        "sum90 = 0\n",
        "cnt90 = 0\n",
        "for i in range(21):\n",
        "  temp = sample_df['height'][i].item()\n",
        "  if min90.item() <= temp and max90.item() >= temp:\n",
        "    sum90 += temp\n",
        "    cnt90 += 1\n",
        "print(sum90/cnt90)\n",
        "\n",
        "sum95 = 0\n",
        "cnt95 = 0\n",
        "for i in range(21):\n",
        "  temp = sample_df['height'][i].item()\n",
        "  if min95.item() <= temp and max95.item() >= temp:\n",
        "    sum95 += temp\n",
        "    cnt95 += 1\n",
        "print(sum95/cnt95)"
      ],
      "execution_count": null,
      "outputs": [
        {
          "output_type": "stream",
          "text": [
            "           height\n",
            "count   21.000000\n",
            "mean   176.942857\n",
            "std      8.086076\n",
            "min    164.730000\n",
            "25%    169.020000\n",
            "50%    176.750000\n",
            "75%    182.540000\n",
            "max    190.100000\n",
            "height    1.548776\n",
            "dtype: float64\n",
            "Ttest_1sampResult(statistic=array([1.54877645]), pvalue=array([0.13711478]))\n",
            "\n",
            "height    180.401329\n",
            "dtype: float64\n",
            "height    173.484385\n",
            "dtype: float64\n",
            "height    179.845503\n",
            "dtype: float64\n",
            "height    174.040211\n",
            "dtype: float64\n",
            "\n",
            "177.17\n",
            "177.15499999999997\n"
          ],
          "name": "stdout"
        }
      ]
    },
    {
      "cell_type": "code",
      "metadata": {
        "id": "EpaLan0b1JAP"
      },
      "source": [
        ""
      ],
      "execution_count": null,
      "outputs": []
    }
  ]
}