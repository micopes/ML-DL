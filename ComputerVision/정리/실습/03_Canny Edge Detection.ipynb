{
 "cells": [
  {
   "cell_type": "code",
   "execution_count": 1,
   "metadata": {},
   "outputs": [],
   "source": [
    "from PIL import Image\n",
    "import math\n",
    "import numpy as np"
   ]
  },
  {
   "cell_type": "code",
   "execution_count": 2,
   "metadata": {},
   "outputs": [],
   "source": [
    "def gauss1d(sigma):\n",
    "    # sigma value가 0이 되서는 안된다.(sigma value가 0이면 분모가 0이 된다.)\n",
    "    assert sigma != 0, \"Sigma value sholudn't be zero\"\n",
    "    \n",
    "    # sigma를 6으로 곱하고 올림\n",
    "    length = int(math.ceil(float(sigma) * 6))\n",
    "    \n",
    "    if length % 2 == 0:\n",
    "        length += 1\n",
    "    \n",
    "    center = length // 2\n",
    "    \n",
    "    # -center ~ center의 1차원 배열 생성\n",
    "    x = np.arange(-center, center + 1)\n",
    "    \n",
    "    # sum to 1을 위한 처리\n",
    "    ret = np.exp(-(x**2)/(2*sigma**2))\n",
    "    ret /= np.sum(ret)\n",
    "    \n",
    "    return ret"
   ]
  },
  {
   "cell_type": "code",
   "execution_count": 3,
   "metadata": {},
   "outputs": [],
   "source": [
    "def gauss2d(sigma):\n",
    "    # np.outer(외적) 연산\n",
    "    ret = np.outer(gauss1d(sigma), gauss1d(sigma))\n",
    "    ret /= np.sum(ret)\n",
    "    return ret"
   ]
  },
  {
   "cell_type": "code",
   "execution_count": 4,
   "metadata": {},
   "outputs": [],
   "source": [
    "def convolve2d(img, filter):\n",
    "    # np.flipud : 위, 아래 방향 뒤집기\n",
    "    # np.fliplr : 좌, 우 방향 뒤집기\n",
    "    filter = np.flipud(np.fliplr(filter))\n",
    "    \n",
    "    pad = int(np.sqrt(filter.size)) # 19\n",
    "    pad2 = pad//2 # 9\n",
    "    \n",
    "    # 리턴값\n",
    "    output = np.zeros_like(img, dtype = 'float32')\n",
    "    \n",
    "    # Zero padding\n",
    "    padded = np.zeros((img.size[1] + 2*pad2, img.size[0] + 2*pad2))\n",
    "    padded[pad2:-pad2, pad2:-pad2] = img\n",
    "    \n",
    "    # 이중 for loop로 zero padding 구현\n",
    "    for x in range(img.size[0]):\n",
    "        for y in range(img.size[1]):\n",
    "            output[y,x] = (filter * padded[y:y+pad, x:x+pad]).sum()\n",
    "            \n",
    "    return output"
   ]
  },
  {
   "cell_type": "code",
   "execution_count": 5,
   "metadata": {},
   "outputs": [],
   "source": [
    "def gaussconvolve2d(img, sigma):\n",
    "    # sigma를 통해 gauss를 통해 convolution 연산을 통해 결과를.\n",
    "    # convolve2d와 gauss2d를 이용해서 만들면 된다.\n",
    "    filter = gauss2d(sigma)\n",
    "    output = convolve2d(img, filter)\n",
    "    \n",
    "    return output"
   ]
  },
  {
   "cell_type": "code",
   "execution_count": 6,
   "metadata": {},
   "outputs": [],
   "source": [
    "def sobel_filters(img):\n",
    "    \n",
    "    x_filter = np.array([[-1, 0, 1], [-2, 0, 2], [-1, 0, 1]])\n",
    "    y_filter = np.array([[1, 2, 1], [0, 0, 0], [-1, -2, -1]])\n",
    "    \n",
    "    x_val = convolve2d(img, x_filter)\n",
    "    y_val = convolve2d(img, y_filter)\n",
    "    \n",
    "    G = np.hypot(x_val, y_val)\n",
    "    theta = np.arctan2(y_val, x_val)\n",
    "                            \n",
    "    return (G, theta)"
   ]
  },
  {
   "cell_type": "code",
   "execution_count": 7,
   "metadata": {},
   "outputs": [],
   "source": [
    "def non_max_suppression(G, theta):\n",
    "    degree = np.rad2deg(theta)\n",
    "    \n",
    "    size = G.shape\n",
    "    suppressed = np.zeros(size)\n",
    "    \n",
    "    for i in range(1, size[0]-1):\n",
    "        for j in range(1, size[1]-1):\n",
    "            # degree : 0 - 수평 방향\n",
    "            if 0 <= degree[i][j] < 22.5 or 157.5 <= degree[i][j] <= 180:\n",
    "                temp = max(G[i][j-1], G[i][j+1])\n",
    "            # degree : 45 - 양의 대각선\n",
    "            elif 22.5 <= degree[i][j] < 67.5:\n",
    "                temp = max(G[i-1][j-1], G[i+1][j+1])\n",
    "            # degree : 90 - 수직 방향\n",
    "            elif 67.5 <= degree[i][j] < 112.5:\n",
    "                temp = max(G[i-1][j], G[i+1][j])\n",
    "            # degree : 135 - 음의 대각선\n",
    "            else:\n",
    "                temp = max(G[i-1][j+1], G[i+1][j-1])\n",
    "                \n",
    "            if G[i][j] >= temp:\n",
    "                suppressed[i][j] = G[i][j]\n",
    "                \n",
    "    suppressed = np.multiply(suppressed, 255 / suppressed.max())\n",
    "    return suppressed"
   ]
  },
  {
   "cell_type": "code",
   "execution_count": 8,
   "metadata": {},
   "outputs": [],
   "source": [
    "def double_thresholding(img):\n",
    "    img = np.array(img)\n",
    "    # 비율 설정\n",
    "    high_ratio = 0.15\n",
    "    low_ratio = 0.03\n",
    "    \n",
    "    # Threshold high, low 설정\n",
    "    diff = img.max() - img.min()\n",
    "    T_high = img.min() + diff*high_ratio\n",
    "    T_low = img.min() + diff*low_ratio\n",
    "    print(T_high, T_low)\n",
    "    '''\n",
    "    # np.where() 삼중 연산자와 유사한 기능. for loop를 사용하지 않아도 된다.\n",
    "    # 1. T_high보다 크거나 같으면 255(strong)\n",
    "    temp1 = np.where(T_high <= img, 255, 0)\n",
    "    # 2. T_low보다 크거나 같고 T_high 보다 작으면 80(weak)\n",
    "    temp2 = np.where(T_low <= img, 80, 0)\n",
    "    # 3. T_low보다 작으면 0(non-relevant)\n",
    "    # img = np.where(T_low > img, 0, img)\n",
    "    '''\n",
    "    \n",
    "    h, w = img.shape\n",
    "    \n",
    "    for i in range(1, h-1):\n",
    "        for j in range(1, w-1):\n",
    "            if img[i][j] > T_high:\n",
    "                img[i][j] = 255\n",
    "            elif img[i][j] > T_low:\n",
    "                img[i][j] = 80\n",
    "            else:\n",
    "                img[i][j] = 0\n",
    "    return img"
   ]
  },
  {
   "cell_type": "code",
   "execution_count": 9,
   "metadata": {},
   "outputs": [],
   "source": [
    "def hysteresis(img):\n",
    "    img = np.array(img)\n",
    "    # 비율 설정\n",
    "    high_ratio = 0.15\n",
    "    low_ratio = 0.03\n",
    "    # strong, weak value 변수화\n",
    "    strong, weak = 255, 80\n",
    "    \n",
    "    # 위에서 사용했던 threshold\n",
    "    diff = img.max() - img.min()\n",
    "    T_high = img.min() + diff*high_ratio\n",
    "    T_low = img.min() + diff*low_ratio\n",
    "    \n",
    "    # BFS\n",
    "    visited = [[False]*img.shape[1] for _ in range(img.shape[0])]\n",
    "    r, c = img.shape[0], img.shape[1]\n",
    "    \n",
    "    dx = [-1, 1, 0, 0]\n",
    "    dy = [0, 0, -1, 1]\n",
    "    q = deque()\n",
    "    q.append((1, 1))\n",
    "    while q:\n",
    "        x, y = q.popleft()\n",
    "        # weak주변에 strong이 있는지 최종 확인\n",
    "        flag = False\n",
    "        for i in range(4):\n",
    "            nx = x + dx[i]\n",
    "            ny = y + dy[i]\n",
    "            # weak 주변에 strong이 있으면 strong으로\n",
    "            if img[x][y] == weak and img[nx][ny] == strong:\n",
    "                img[x][y] = strong\n",
    "                flag = True\n",
    "            if 1 <= nx < r and 1 <= ny < c and visited[nx][ny] == False:\n",
    "                visited[nx][ny] = True\n",
    "                q.append((nx, ny))\n",
    "        if flag == False and (img[x][y] == weak or img[x][y] == 0):\n",
    "            img[x][y] = 0\n",
    "                    \n",
    "    return img"
   ]
  },
  {
   "cell_type": "markdown",
   "metadata": {},
   "source": [
    "## 1. Noise reduction"
   ]
  },
  {
   "cell_type": "code",
   "execution_count": 10,
   "metadata": {},
   "outputs": [],
   "source": [
    "original = Image.open('iguana.bmp')"
   ]
  },
  {
   "cell_type": "code",
   "execution_count": 11,
   "metadata": {},
   "outputs": [],
   "source": [
    "im = Image.open('iguana.bmp')\n",
    "im = im.convert('L')"
   ]
  },
  {
   "cell_type": "code",
   "execution_count": 12,
   "metadata": {},
   "outputs": [
    {
     "name": "stdout",
     "output_type": "stream",
     "text": [
      "[[ 8.886213 11.487304 12.666539 ... 57.269455 50.504623 37.87184 ]\n",
      " [11.804983 15.260447 16.827074 ... 75.86449  66.487335 49.639004]\n",
      " [13.42956  17.360685 19.14332  ... 86.52235  75.42679  56.125107]\n",
      " ...\n",
      " [11.482877 16.171326 19.823963 ... 75.33419  71.90424  57.36441 ]\n",
      " [13.394698 19.022598 23.604034 ... 56.2243   56.12303  46.52825 ]\n",
      " [12.716841 18.092936 22.507124 ... 36.431942 38.097576 32.806984]]\n"
     ]
    }
   ],
   "source": [
    "im = gaussconvolve2d(im, 1.6)\n",
    "print(im)"
   ]
  },
  {
   "cell_type": "code",
   "execution_count": 13,
   "metadata": {},
   "outputs": [],
   "source": [
    "im = im.astype('uint8')\n",
    "im = Image.fromarray(im)\n",
    "original.show()\n",
    "im.show()"
   ]
  },
  {
   "cell_type": "markdown",
   "metadata": {},
   "source": [
    "## 2. Finding the intensity gradient of the image"
   ]
  },
  {
   "cell_type": "code",
   "execution_count": 14,
   "metadata": {},
   "outputs": [],
   "source": [
    "G, theta = sobel_filters(im)"
   ]
  },
  {
   "cell_type": "code",
   "execution_count": 15,
   "metadata": {},
   "outputs": [],
   "source": [
    "im2 = G.astype('uint8')\n",
    "im2 = Image.fromarray(im2)\n",
    "im2.show()"
   ]
  },
  {
   "cell_type": "markdown",
   "metadata": {},
   "source": [
    "## 3. Non-Maximum Suppression"
   ]
  },
  {
   "cell_type": "code",
   "execution_count": 16,
   "metadata": {},
   "outputs": [],
   "source": [
    "NMS = non_max_suppression(G, theta)\n",
    "im3 = NMS.astype('uint8')\n",
    "im3 = Image.fromarray(im3)\n",
    "im3.show()"
   ]
  },
  {
   "cell_type": "markdown",
   "metadata": {},
   "source": [
    "## 4. Double threshold"
   ]
  },
  {
   "cell_type": "code",
   "execution_count": 19,
   "metadata": {},
   "outputs": [
    {
     "name": "stdout",
     "output_type": "stream",
     "text": [
      "38.25 7.6499999999999995\n"
     ]
    }
   ],
   "source": [
    "im4 = double_thresholding(im3)\n",
    "im4 = im4.astype('uint8')\n",
    "im4 = Image.fromarray(im4)\n",
    "im4.show()"
   ]
  },
  {
   "cell_type": "markdown",
   "metadata": {},
   "source": [
    "## 5. Edge Tracking by hysteresis"
   ]
  },
  {
   "cell_type": "code",
   "execution_count": 18,
   "metadata": {},
   "outputs": [],
   "source": [
    "from collections import deque # 큐를 빠르게 사용하기 위한 라이브러리 import\n",
    "im5 = hysteresis(im4)\n",
    "im5 = im5.astype('uint8')\n",
    "im5 = Image.fromarray(im5)\n",
    "im5.show()"
   ]
  }
 ],
 "metadata": {
  "kernelspec": {
   "display_name": "Python 3",
   "language": "python",
   "name": "python3"
  },
  "language_info": {
   "codemirror_mode": {
    "name": "ipython",
    "version": 3
   },
   "file_extension": ".py",
   "mimetype": "text/x-python",
   "name": "python",
   "nbconvert_exporter": "python",
   "pygments_lexer": "ipython3",
   "version": "3.8.3"
  }
 },
 "nbformat": 4,
 "nbformat_minor": 4
}
