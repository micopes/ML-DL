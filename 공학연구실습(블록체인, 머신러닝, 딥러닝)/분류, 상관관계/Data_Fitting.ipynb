{
  "nbformat": 4,
  "nbformat_minor": 0,
  "metadata": {
    "colab": {
      "name": "Data Fitting",
      "provenance": [],
      "toc_visible": true,
      "authorship_tag": "ABX9TyO8cILFFW0uxDYAXxYkSUet",
      "include_colab_link": true
    },
    "kernelspec": {
      "name": "python3",
      "display_name": "Python 3"
    }
  },
  "cells": [
    {
      "cell_type": "markdown",
      "metadata": {
        "id": "view-in-github",
        "colab_type": "text"
      },
      "source": [
        "<a href=\"https://colab.research.google.com/github/minjcop/AI-ML-DL/blob/master/Data_Fitting.ipynb\" target=\"_parent\"><img src=\"https://colab.research.google.com/assets/colab-badge.svg\" alt=\"Open In Colab\"/></a>"
      ]
    },
    {
      "cell_type": "code",
      "metadata": {
        "id": "8pJtgazfefNA"
      },
      "source": [
        "import numpy as np\n",
        "import matplotlib.pyplot as plt\n",
        "from scipy.optimize import curve_fit"
      ],
      "execution_count": null,
      "outputs": []
    },
    {
      "cell_type": "code",
      "metadata": {
        "id": "jgNn6ZY-aGMv"
      },
      "source": [
        ""
      ],
      "execution_count": null,
      "outputs": []
    },
    {
      "cell_type": "code",
      "metadata": {
        "id": "4ohhqKseDN8Y"
      },
      "source": [
        "def func_exp(x, a, b, c) :\n",
        "  return a * np.exp(b * x) + c\n",
        "\n",
        "def func_log(x, a, b, c) :\n",
        "  return a * np.log(b*x) + c\n",
        "\n",
        "def func_poly(x, a, b, c) : \n",
        "  return a *(x**2) + b*x + c\n",
        "\n",
        "def func(x, a, b, c, d) :\n",
        "  return a*np.exp(-(x-b)**2/(2*c**2))\n"
      ],
      "execution_count": null,
      "outputs": []
    },
    {
      "cell_type": "code",
      "metadata": {
        "id": "9jYJQgkeesib"
      },
      "source": [
        "x1 = np.array([5, 11, 15, 44, 60, 70, 75, 100, 120, 200])\n",
        "x2 = np.array([5, 6, 7, 9, 13, 15, 21, 25, 32, 33])\n",
        "x3 = np.array([5, 11, 12, 17, 26, 37, 45, 60, 70, 72])"
      ],
      "execution_count": null,
      "outputs": []
    },
    {
      "cell_type": "code",
      "metadata": {
        "id": "GlhOV_v6f5im"
      },
      "source": [
        "y1 = np.array([2.492, 8.330, 11.000, 19.394, 24.466, 27.777, 29.878, 26.952, 35.607, 46.966])\n",
        "y2 = np.array([177, 196, 204, 230, 248, 264, 249, 238, 172, 153])\n",
        "y3 = np.array([2.8, 1.5, 2.45, 3.2, 27.450, 48.8, 64.2, 141.45, 201.45, 226.05])"
      ],
      "execution_count": null,
      "outputs": []
    },
    {
      "cell_type": "code",
      "metadata": {
        "id": "npIRgiwyft-x",
        "outputId": "1994e94c-fa34-4d73-88f5-f48b4492e1c6",
        "colab": {
          "base_uri": "https://localhost:8080/",
          "height": 72
        }
      },
      "source": [
        "y1n = y1 + 0.2 * np.random.normal(size = 10)\n",
        "param, param2 = curve_fit(func_log, x1, y1n)"
      ],
      "execution_count": null,
      "outputs": [
        {
          "output_type": "stream",
          "text": [
            "/usr/local/lib/python3.6/dist-packages/ipykernel_launcher.py:5: RuntimeWarning: invalid value encountered in log\n",
            "  \"\"\"\n"
          ],
          "name": "stderr"
        }
      ]
    },
    {
      "cell_type": "code",
      "metadata": {
        "id": "9TjxcRfee9A8",
        "outputId": "ebd96ee7-c09d-4d50-bcb9-bb3ad9287dc9",
        "colab": {
          "base_uri": "https://localhost:8080/",
          "height": 265
        }
      },
      "source": [
        "plt.plot(x1, y1n, 'bo')\n",
        "plt.show()"
      ],
      "execution_count": null,
      "outputs": [
        {
          "output_type": "display_data",
          "data": {
            "image/png": "[encoded data removed]",
            "text/plain": [
              "<Figure size 432x288 with 1 Axes>"
            ]
          },
          "metadata": {
            "tags": [],
            "needs_background": "light"
          }
        }
      ]
    },
    {
      "cell_type": "code",
      "metadata": {
        "id": "_rpR6Mp-W7mQ",
        "outputId": "b6fb5cd9-ca86-4901-8ae4-5ca04242da66",
        "colab": {
          "base_uri": "https://localhost:8080/",
          "height": 35
        }
      },
      "source": [
        "print(\"param = \", param)\n",
        "a = param[0]\n",
        "b = param[1]\n",
        "c = param[2]"
      ],
      "execution_count": null,
      "outputs": [
        {
          "output_type": "stream",
          "text": [
            "param =  [ 10.97223962   0.52607476 -11.23296747]\n"
          ],
          "name": "stdout"
        }
      ]
    },
    {
      "cell_type": "code",
      "metadata": {
        "id": "In0BAB-9XAWp",
        "outputId": "e49218cc-2c69-4bc1-8aaa-a01080b8690a",
        "colab": {
          "base_uri": "https://localhost:8080/",
          "height": 70
        }
      },
      "source": [
        "print(\"param2 = \", param2)"
      ],
      "execution_count": null,
      "outputs": [
        {
          "output_type": "stream",
          "text": [
            "param2 =  [[ 1.41580500e+00  1.07068762e+06 -2.23311290e+07]\n",
            " [ 1.07068759e+06  6.63805453e+12 -1.38448622e+14]\n",
            " [-2.23311283e+07 -1.38448622e+14  2.88759619e+15]]\n"
          ],
          "name": "stdout"
        }
      ]
    },
    {
      "cell_type": "markdown",
      "metadata": {
        "id": "-VhsayTeiqQP"
      },
      "source": [
        ""
      ]
    },
    {
      "cell_type": "code",
      "metadata": {
        "id": "KvhYy5dWacex"
      },
      "source": [
        "y1k = func_log(x1, a, b, c)"
      ],
      "execution_count": null,
      "outputs": []
    },
    {
      "cell_type": "code",
      "metadata": {
        "id": "4CtiXr0IZwDv",
        "outputId": "4de4de5d-4f13-44ee-b96c-30f3a3166d28",
        "colab": {
          "base_uri": "https://localhost:8080/",
          "height": 72
        }
      },
      "source": [
        "x1data = np.linspace(0, 200, 10000)\n",
        "y1data = func_log(x1data, a, b, c)"
      ],
      "execution_count": null,
      "outputs": [
        {
          "output_type": "stream",
          "text": [
            "/usr/local/lib/python3.6/dist-packages/ipykernel_launcher.py:5: RuntimeWarning: divide by zero encountered in log\n",
            "  \"\"\"\n"
          ],
          "name": "stderr"
        }
      ]
    },
    {
      "cell_type": "code",
      "metadata": {
        "id": "dC2SHpbNO6g_",
        "outputId": "139041f4-426a-44b1-9958-306dc2f686f2",
        "colab": {
          "base_uri": "https://localhost:8080/",
          "height": 269
        }
      },
      "source": [
        "plt.axis([-10, 210, -100, 100])\n",
        "plt.plot(x1, y1k, 'bo')\n",
        "plt.plot(x1data, y1data)\n",
        "#plt.plot(x1, y1, 'bo', label = 'data, ae^2(-bx)+c')\n",
        "plt.show()"
      ],
      "execution_count": null,
      "outputs": [
        {
          "output_type": "display_data",
          "data": {
            "image/png": "[encoded data removed]",
            "text/plain": [
              "<Figure size 432x288 with 1 Axes>"
            ]
          },
          "metadata": {
            "tags": [],
            "needs_background": "light"
          }
        }
      ]
    },
    {
      "cell_type": "code",
      "metadata": {
        "id": "rB7e5lCQIEgS",
        "outputId": "d25b1306-e8df-426e-b2d5-00573415b5d4",
        "colab": {
          "base_uri": "https://localhost:8080/",
          "height": 265
        }
      },
      "source": [
        "plt.plot(x2, y2, 'o')\n",
        "plt.show()"
      ],
      "execution_count": null,
      "outputs": [
        {
          "output_type": "display_data",
          "data": {
            "image/png": "[encoded data removed]",
            "text/plain": [
              "<Figure size 432x288 with 1 Axes>"
            ]
          },
          "metadata": {
            "tags": [],
            "needs_background": "light"
          }
        }
      ]
    },
    {
      "cell_type": "code",
      "metadata": {
        "id": "IUXbxSiMdh_6"
      },
      "source": [
        "y2n = y2 + 0.2 * np.random.normal(size = 10)\n",
        "param, param2 = curve_fit(func_poly, x2, y2n)"
      ],
      "execution_count": null,
      "outputs": []
    },
    {
      "cell_type": "code",
      "metadata": {
        "id": "Tj38a9TndiMJ",
        "outputId": "dd2e3635-c87d-4df8-c8f5-1d7a3f2ba744",
        "colab": {
          "base_uri": "https://localhost:8080/",
          "height": 35
        }
      },
      "source": [
        "print(\"param = \", param)\n",
        "a = param[0]\n",
        "b = param[1]\n",
        "c = param[2]"
      ],
      "execution_count": null,
      "outputs": [
        {
          "output_type": "stream",
          "text": [
            "param =  [ -0.47278616  16.97354959 109.37026269]\n"
          ],
          "name": "stdout"
        }
      ]
    },
    {
      "cell_type": "code",
      "metadata": {
        "id": "aRbDxgfVdiRI",
        "outputId": "a400b8ca-3765-4875-df66-d390d2ecec6e",
        "colab": {
          "base_uri": "https://localhost:8080/",
          "height": 70
        }
      },
      "source": [
        "print(\"param2 = \", param2)"
      ],
      "execution_count": null,
      "outputs": [
        {
          "output_type": "stream",
          "text": [
            "param2 =  [[ 5.62409557e-04 -2.12457405e-02  1.40988334e-01]\n",
            " [-2.12457405e-02  8.32628499e-01 -5.82473632e+00]\n",
            " [ 1.40988334e-01 -5.82473632e+00  4.66521974e+01]]\n"
          ],
          "name": "stdout"
        }
      ]
    },
    {
      "cell_type": "code",
      "metadata": {
        "id": "0IxtS1zhdiWu"
      },
      "source": [
        "y2k = func_poly(x2, a, b, c)"
      ],
      "execution_count": null,
      "outputs": []
    },
    {
      "cell_type": "code",
      "metadata": {
        "id": "ZxT01x5PdiUw"
      },
      "source": [
        "x2data = np.linspace(0, 40, 10000)\n",
        "y2data = func_poly(x2data, a, b, c)"
      ],
      "execution_count": null,
      "outputs": []
    },
    {
      "cell_type": "code",
      "metadata": {
        "id": "22q5p0VifFsG",
        "outputId": "d373dd16-8063-4929-fb70-0c9a3c029fdf",
        "colab": {
          "base_uri": "https://localhost:8080/",
          "height": 52
        }
      },
      "source": [
        "print(y2k)"
      ],
      "execution_count": null,
      "outputs": [
        {
          "output_type": "stream",
          "text": [
            "[182.41835676 194.19125864 205.01858821 223.83653042 250.12554713\n",
            " 257.59662161 257.31610963 238.21765544 168.39082665 154.63327616]\n"
          ],
          "name": "stdout"
        }
      ]
    },
    {
      "cell_type": "code",
      "metadata": {
        "id": "LziJGU1qdiOz",
        "outputId": "0560ba2c-1263-43b5-96d8-bffc2c2bafd7",
        "colab": {
          "base_uri": "https://localhost:8080/",
          "height": 265
        }
      },
      "source": [
        "# plt.axis([0, 40, 150, 300])\n",
        "plt.plot(x2, y2k, 'bo')\n",
        "plt.plot(x2data, y2data)\n",
        "plt.show()"
      ],
      "execution_count": null,
      "outputs": [
        {
          "output_type": "display_data",
          "data": {
            "image/png": "[encoded data removed]",
            "text/plain": [
              "<Figure size 432x288 with 1 Axes>"
            ]
          },
          "metadata": {
            "tags": [],
            "needs_background": "light"
          }
        }
      ]
    },
    {
      "cell_type": "code",
      "metadata": {
        "id": "Pc_dV_y1diE5"
      },
      "source": [
        ""
      ],
      "execution_count": null,
      "outputs": []
    },
    {
      "cell_type": "code",
      "metadata": {
        "id": "uhV2B1UoIIsw",
        "outputId": "331f02aa-fe76-4ade-97de-5076ff1cbeae",
        "colab": {
          "base_uri": "https://localhost:8080/",
          "height": 265
        }
      },
      "source": [
        "plt.plot(x3, y3, 'o')\n",
        "plt.show()"
      ],
      "execution_count": null,
      "outputs": [
        {
          "output_type": "display_data",
          "data": {
            "image/png": "[encoded data removed]",
            "text/plain": [
              "<Figure size 432x288 with 1 Axes>"
            ]
          },
          "metadata": {
            "tags": [],
            "needs_background": "light"
          }
        }
      ]
    },
    {
      "cell_type": "code",
      "metadata": {
        "id": "Gsijlw19a7MS"
      },
      "source": [
        "y3n = y3 + 0.2 * np.random.normal(size = 10)\n",
        "param, param2 = curve_fit(func_exp, x3, y3n)"
      ],
      "execution_count": null,
      "outputs": []
    },
    {
      "cell_type": "code",
      "metadata": {
        "id": "lHX19Lxma7rP",
        "outputId": "64e5c9bd-7998-4998-c29d-85316d15b31b",
        "colab": {
          "base_uri": "https://localhost:8080/",
          "height": 35
        }
      },
      "source": [
        "print(\"param = \", param)\n",
        "a = param[0]\n",
        "b = param[1]\n",
        "c = param[2]"
      ],
      "execution_count": null,
      "outputs": [
        {
          "output_type": "stream",
          "text": [
            "param =  [5.75028362e-14 1.00000001e+00 2.01961284e+08]\n"
          ],
          "name": "stdout"
        }
      ]
    },
    {
      "cell_type": "code",
      "metadata": {
        "id": "5qVsuO53a8AS",
        "outputId": "e29ec46f-eaf5-401c-8866-656f28f9b6ab",
        "colab": {
          "base_uri": "https://localhost:8080/",
          "height": 70
        }
      },
      "source": [
        "print(\"param2 = \", param2)"
      ],
      "execution_count": null,
      "outputs": [
        {
          "output_type": "stream",
          "text": [
            "param2 =  [[3.46258196e-23 2.12514643e-18 2.28496768e-08]\n",
            " [2.12514643e-18 1.30431828e-13 1.40240930e-03]\n",
            " [2.28496768e-08 1.40240930e-03 3.32353173e+34]]\n"
          ],
          "name": "stdout"
        }
      ]
    },
    {
      "cell_type": "code",
      "metadata": {
        "id": "Nhhm-tgxa8Ju"
      },
      "source": [
        "y3k = func_exp(x3, a, b, c)"
      ],
      "execution_count": null,
      "outputs": []
    },
    {
      "cell_type": "code",
      "metadata": {
        "id": "ddYOqCgSa8Nx"
      },
      "source": [
        "x3data = np.linspace(0, 73, 10000)\n",
        "y3data = func_exp(x3data, a, b, c)"
      ],
      "execution_count": null,
      "outputs": []
    },
    {
      "cell_type": "code",
      "metadata": {
        "id": "M2lrX_hla8QL",
        "outputId": "c7d67b6d-9b66-4ed4-9c71-15510687f9ce",
        "colab": {
          "base_uri": "https://localhost:8080/",
          "height": 331
        }
      },
      "source": [
        "plt.figure(figsize = (10, 5))\n",
        "plt.plot(x3, y3k, 'bo')\n",
        "plt.plot(x3data, y3data)\n",
        "plt.show()"
      ],
      "execution_count": null,
      "outputs": [
        {
          "output_type": "display_data",
          "data": {
            "image/png": "[encoded data removed]",
            "text/plain": [
              "<Figure size 720x360 with 1 Axes>"
            ]
          },
          "metadata": {
            "tags": [],
            "needs_background": "light"
          }
        }
      ]
    },
    {
      "cell_type": "code",
      "metadata": {
        "id": "jQv3WVzla8L7"
      },
      "source": [
        "x = np.array([4, 5, 6, 7, 8, 9, 10, 11, 12, 13, 14, 15])\n",
        "# 단위 : 10억 달러\n",
        "y = np.array([8.2, 13.9, 19.3, 24.6, 37.5, 42.9, 65.2, 108.2, 156.5, 170.9, 182.8, 233.72])"
      ],
      "execution_count": null,
      "outputs": []
    },
    {
      "cell_type": "code",
      "metadata": {
        "id": "Fh-3UStba8FD"
      },
      "source": [
        "yn = y + 0.2 * np.random.normal(size = 12)\n",
        "param, param2 = curve_fit(func_exp, x, yn)"
      ],
      "execution_count": null,
      "outputs": []
    },
    {
      "cell_type": "code",
      "metadata": {
        "id": "SHWM3CVo7xnQ",
        "outputId": "c5fb8463-cd15-4330-9001-25edf6d372cc",
        "colab": {
          "base_uri": "https://localhost:8080/",
          "height": 88
        }
      },
      "source": [
        "print(param)\n",
        "print(param2)"
      ],
      "execution_count": null,
      "outputs": [
        {
          "output_type": "stream",
          "text": [
            "[ 26.87269431   0.15835053 -51.20182979]\n",
            "[[ 3.42356772e+02 -7.34006650e-01 -6.23385028e+02]\n",
            " [-7.34006650e-01  1.58413445e-03  1.32005763e+00]\n",
            " [-6.23385028e+02  1.32005763e+00  1.17827800e+03]]\n"
          ],
          "name": "stdout"
        }
      ]
    },
    {
      "cell_type": "code",
      "metadata": {
        "id": "xHKiDIpMa751",
        "outputId": "c1b27705-14e8-4de2-8ee9-078a3ee70791",
        "colab": {
          "base_uri": "https://localhost:8080/",
          "height": 334
        }
      },
      "source": [
        "plt.figure(figsize = (10, 5))\n",
        "plt.xlabel('year')\n",
        "plt.ylabel('Apple Sales(unit = 1 billon dollars)')\n",
        "plt.plot(x, yn, 'bo')\n",
        "plt.show()"
      ],
      "execution_count": null,
      "outputs": [
        {
          "output_type": "display_data",
          "data": {
            "image/png": "[encoded data removed]",
            "text/plain": [
              "<Figure size 720x360 with 1 Axes>"
            ]
          },
          "metadata": {
            "tags": [],
            "needs_background": "light"
          }
        }
      ]
    },
    {
      "cell_type": "code",
      "metadata": {
        "id": "NljO0Q2xa7eO"
      },
      "source": [
        "a = param[0]\n",
        "b = param[1]\n",
        "c = param[2]"
      ],
      "execution_count": null,
      "outputs": []
    },
    {
      "cell_type": "code",
      "metadata": {
        "id": "VkwjzqLI7iYb"
      },
      "source": [
        "yk = func_exp(x, a, b, c)"
      ],
      "execution_count": null,
      "outputs": []
    },
    {
      "cell_type": "code",
      "metadata": {
        "id": "gKZdPLly7icC"
      },
      "source": [
        "xdata = np.linspace(3, 16, 1000)\n",
        "ydata = func_exp(xdata, a, b, c)"
      ],
      "execution_count": null,
      "outputs": []
    },
    {
      "cell_type": "code",
      "metadata": {
        "id": "-sNiecOM7iQ1",
        "outputId": "dc8ced28-f93c-41cb-b227-540c42dba1a8",
        "colab": {
          "base_uri": "https://localhost:8080/",
          "height": 336
        }
      },
      "source": [
        "plt.figure(figsize = (10, 5))\n",
        "plt.xlabel('year')\n",
        "plt.ylabel('Apple Sales(unit = 1 billon dollars)')\n",
        "plt.plot(x, yk, 'bo')\n",
        "plt.plot(xdata, ydata)\n",
        "plt.show()"
      ],
      "execution_count": null,
      "outputs": [
        {
          "output_type": "display_data",
          "data": {
            "image/png": "[encoded data removed]",
            "text/plain": [
              "<Figure size 720x360 with 1 Axes>"
            ]
          },
          "metadata": {
            "tags": [],
            "needs_background": "light"
          }
        }
      ]
    },
    {
      "cell_type": "code",
      "metadata": {
        "id": "XDJtktrn7p5x",
        "outputId": "431c92f7-5b77-44e6-e22c-d1c8ec1538ab",
        "colab": {
          "base_uri": "https://localhost:8080/",
          "height": 35
        }
      },
      "source": [
        "value = func_exp(16, a, b, c)\n",
        "value\n"
      ],
      "execution_count": null,
      "outputs": [
        {
          "output_type": "execute_result",
          "data": {
            "text/plain": [
              "287.3642046271673"
            ]
          },
          "metadata": {
            "tags": []
          },
          "execution_count": 37
        }
      ]
    },
    {
      "cell_type": "code",
      "metadata": {
        "id": "DcQdHNZdqrl_"
      },
      "source": [
        ""
      ],
      "execution_count": null,
      "outputs": []
    }
  ]
}