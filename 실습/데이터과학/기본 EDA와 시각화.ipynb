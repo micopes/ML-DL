{
  "nbformat": 4,
  "nbformat_minor": 0,
  "metadata": {
    "colab": {
      "name": "강민진 - IDS HW EDA.ipynb",
      "provenance": [],
      "collapsed_sections": []
    },
    "kernelspec": {
      "name": "python3",
      "display_name": "Python 3"
    },
    "language_info": {
      "name": "python"
    }
  },
  "cells": [
    {
      "cell_type": "markdown",
      "metadata": {
        "id": "3_yygxSaNrk3"
      },
      "source": [
        "# HW 03. Exploratory Data Analysis"
      ]
    },
    {
      "cell_type": "markdown",
      "metadata": {
        "id": "YOieF4ZcB3-H"
      },
      "source": [
        "아래에 T1~T5에서 To Do 로 표시된 곳에 코드를 완성하세요. "
      ]
    },
    {
      "cell_type": "markdown",
      "metadata": {
        "id": "tebNC_VDOvme"
      },
      "source": [
        "## Titanic dataset"
      ]
    },
    {
      "cell_type": "markdown",
      "metadata": {
        "id": "dvfnZdQjO7sN"
      },
      "source": [
        "Seaborn에 포함된 토이 데이터셋 중 타이타닉 데이터셋을 사용한다. 아래 코드를 통해서 데이터셋을 로딩한다. "
      ]
    },
    {
      "cell_type": "code",
      "metadata": {
        "id": "TmgU2hR-B2kz"
      },
      "source": [
        "import pandas as pd\n",
        "import seaborn as sns\n",
        "import matplotlib.pyplot as plt\n",
        "\n",
        "\n",
        "titanic = sns.load_dataset('titanic')"
      ],
      "execution_count": null,
      "outputs": []
    },
    {
      "cell_type": "markdown",
      "metadata": {
        "id": "gzPE0SwtQLht"
      },
      "source": [
        "아래 코드를 실행해보면 로드된 데이터의 타입이 Pandas DataFrame인 것을 확인할 수 있다."
      ]
    },
    {
      "cell_type": "code",
      "metadata": {
        "id": "MZMR4I_jP-v2",
        "colab": {
          "base_uri": "https://localhost:8080/"
        },
        "outputId": "63e97b97-fd38-46a4-b040-be05c0945e8a"
      },
      "source": [
        "type(titanic)"
      ],
      "execution_count": null,
      "outputs": [
        {
          "output_type": "execute_result",
          "data": {
            "text/plain": [
              "pandas.core.frame.DataFrame"
            ]
          },
          "metadata": {
            "tags": []
          },
          "execution_count": 2
        }
      ]
    },
    {
      "cell_type": "markdown",
      "metadata": {
        "id": "IqSzbli0ijEz"
      },
      "source": [
        "데이터셋의 크기를 확인해보자."
      ]
    },
    {
      "cell_type": "code",
      "metadata": {
        "id": "VZeQY1zIinar",
        "colab": {
          "base_uri": "https://localhost:8080/"
        },
        "outputId": "3a5d4609-59ea-4a9b-d072-f1f9cd18667b"
      },
      "source": [
        "titanic.shape"
      ],
      "execution_count": null,
      "outputs": [
        {
          "output_type": "execute_result",
          "data": {
            "text/plain": [
              "(891, 15)"
            ]
          },
          "metadata": {
            "tags": []
          },
          "execution_count": 3
        }
      ]
    },
    {
      "cell_type": "markdown",
      "metadata": {
        "id": "f21RQ7ndEQf2"
      },
      "source": [
        "891개의 행과 15개의 열로 이뤄진것을 확인하였다. 타이타닉 데이터셋이 어떤 내용을 포함했는지 처음 열개의 행을 출력해보자."
      ]
    },
    {
      "cell_type": "code",
      "metadata": {
        "id": "UusP1xeOEPtG",
        "colab": {
          "base_uri": "https://localhost:8080/",
          "height": 360
        },
        "outputId": "d2661434-59b3-4d5b-d5e6-c2894275e664"
      },
      "source": [
        "titanic.head(10)"
      ],
      "execution_count": null,
      "outputs": [
        {
          "output_type": "execute_result",
          "data": {
            "text/html": [
              "<div>\n",
              "<style scoped>\n",
              "    .dataframe tbody tr th:only-of-type {\n",
              "        vertical-align: middle;\n",
              "    }\n",
              "\n",
              "    .dataframe tbody tr th {\n",
              "        vertical-align: top;\n",
              "    }\n",
              "\n",
              "    .dataframe thead th {\n",
              "        text-align: right;\n",
              "    }\n",
              "</style>\n",
              "<table border=\"1\" class=\"dataframe\">\n",
              "  <thead>\n",
              "    <tr style=\"text-align: right;\">\n",
              "      <th></th>\n",
              "      <th>survived</th>\n",
              "      <th>pclass</th>\n",
              "      <th>sex</th>\n",
              "      <th>age</th>\n",
              "      <th>sibsp</th>\n",
              "      <th>parch</th>\n",
              "      <th>fare</th>\n",
              "      <th>embarked</th>\n",
              "      <th>class</th>\n",
              "      <th>who</th>\n",
              "      <th>adult_male</th>\n",
              "      <th>deck</th>\n",
              "      <th>embark_town</th>\n",
              "      <th>alive</th>\n",
              "      <th>alone</th>\n",
              "    </tr>\n",
              "  </thead>\n",
              "  <tbody>\n",
              "    <tr>\n",
              "      <th>0</th>\n",
              "      <td>0</td>\n",
              "      <td>3</td>\n",
              "      <td>male</td>\n",
              "      <td>22.0</td>\n",
              "      <td>1</td>\n",
              "      <td>0</td>\n",
              "      <td>7.2500</td>\n",
              "      <td>S</td>\n",
              "      <td>Third</td>\n",
              "      <td>man</td>\n",
              "      <td>True</td>\n",
              "      <td>NaN</td>\n",
              "      <td>Southampton</td>\n",
              "      <td>no</td>\n",
              "      <td>False</td>\n",
              "    </tr>\n",
              "    <tr>\n",
              "      <th>1</th>\n",
              "      <td>1</td>\n",
              "      <td>1</td>\n",
              "      <td>female</td>\n",
              "      <td>38.0</td>\n",
              "      <td>1</td>\n",
              "      <td>0</td>\n",
              "      <td>71.2833</td>\n",
              "      <td>C</td>\n",
              "      <td>First</td>\n",
              "      <td>woman</td>\n",
              "      <td>False</td>\n",
              "      <td>C</td>\n",
              "      <td>Cherbourg</td>\n",
              "      <td>yes</td>\n",
              "      <td>False</td>\n",
              "    </tr>\n",
              "    <tr>\n",
              "      <th>2</th>\n",
              "      <td>1</td>\n",
              "      <td>3</td>\n",
              "      <td>female</td>\n",
              "      <td>26.0</td>\n",
              "      <td>0</td>\n",
              "      <td>0</td>\n",
              "      <td>7.9250</td>\n",
              "      <td>S</td>\n",
              "      <td>Third</td>\n",
              "      <td>woman</td>\n",
              "      <td>False</td>\n",
              "      <td>NaN</td>\n",
              "      <td>Southampton</td>\n",
              "      <td>yes</td>\n",
              "      <td>True</td>\n",
              "    </tr>\n",
              "    <tr>\n",
              "      <th>3</th>\n",
              "      <td>1</td>\n",
              "      <td>1</td>\n",
              "      <td>female</td>\n",
              "      <td>35.0</td>\n",
              "      <td>1</td>\n",
              "      <td>0</td>\n",
              "      <td>53.1000</td>\n",
              "      <td>S</td>\n",
              "      <td>First</td>\n",
              "      <td>woman</td>\n",
              "      <td>False</td>\n",
              "      <td>C</td>\n",
              "      <td>Southampton</td>\n",
              "      <td>yes</td>\n",
              "      <td>False</td>\n",
              "    </tr>\n",
              "    <tr>\n",
              "      <th>4</th>\n",
              "      <td>0</td>\n",
              "      <td>3</td>\n",
              "      <td>male</td>\n",
              "      <td>35.0</td>\n",
              "      <td>0</td>\n",
              "      <td>0</td>\n",
              "      <td>8.0500</td>\n",
              "      <td>S</td>\n",
              "      <td>Third</td>\n",
              "      <td>man</td>\n",
              "      <td>True</td>\n",
              "      <td>NaN</td>\n",
              "      <td>Southampton</td>\n",
              "      <td>no</td>\n",
              "      <td>True</td>\n",
              "    </tr>\n",
              "    <tr>\n",
              "      <th>5</th>\n",
              "      <td>0</td>\n",
              "      <td>3</td>\n",
              "      <td>male</td>\n",
              "      <td>NaN</td>\n",
              "      <td>0</td>\n",
              "      <td>0</td>\n",
              "      <td>8.4583</td>\n",
              "      <td>Q</td>\n",
              "      <td>Third</td>\n",
              "      <td>man</td>\n",
              "      <td>True</td>\n",
              "      <td>NaN</td>\n",
              "      <td>Queenstown</td>\n",
              "      <td>no</td>\n",
              "      <td>True</td>\n",
              "    </tr>\n",
              "    <tr>\n",
              "      <th>6</th>\n",
              "      <td>0</td>\n",
              "      <td>1</td>\n",
              "      <td>male</td>\n",
              "      <td>54.0</td>\n",
              "      <td>0</td>\n",
              "      <td>0</td>\n",
              "      <td>51.8625</td>\n",
              "      <td>S</td>\n",
              "      <td>First</td>\n",
              "      <td>man</td>\n",
              "      <td>True</td>\n",
              "      <td>E</td>\n",
              "      <td>Southampton</td>\n",
              "      <td>no</td>\n",
              "      <td>True</td>\n",
              "    </tr>\n",
              "    <tr>\n",
              "      <th>7</th>\n",
              "      <td>0</td>\n",
              "      <td>3</td>\n",
              "      <td>male</td>\n",
              "      <td>2.0</td>\n",
              "      <td>3</td>\n",
              "      <td>1</td>\n",
              "      <td>21.0750</td>\n",
              "      <td>S</td>\n",
              "      <td>Third</td>\n",
              "      <td>child</td>\n",
              "      <td>False</td>\n",
              "      <td>NaN</td>\n",
              "      <td>Southampton</td>\n",
              "      <td>no</td>\n",
              "      <td>False</td>\n",
              "    </tr>\n",
              "    <tr>\n",
              "      <th>8</th>\n",
              "      <td>1</td>\n",
              "      <td>3</td>\n",
              "      <td>female</td>\n",
              "      <td>27.0</td>\n",
              "      <td>0</td>\n",
              "      <td>2</td>\n",
              "      <td>11.1333</td>\n",
              "      <td>S</td>\n",
              "      <td>Third</td>\n",
              "      <td>woman</td>\n",
              "      <td>False</td>\n",
              "      <td>NaN</td>\n",
              "      <td>Southampton</td>\n",
              "      <td>yes</td>\n",
              "      <td>False</td>\n",
              "    </tr>\n",
              "    <tr>\n",
              "      <th>9</th>\n",
              "      <td>1</td>\n",
              "      <td>2</td>\n",
              "      <td>female</td>\n",
              "      <td>14.0</td>\n",
              "      <td>1</td>\n",
              "      <td>0</td>\n",
              "      <td>30.0708</td>\n",
              "      <td>C</td>\n",
              "      <td>Second</td>\n",
              "      <td>child</td>\n",
              "      <td>False</td>\n",
              "      <td>NaN</td>\n",
              "      <td>Cherbourg</td>\n",
              "      <td>yes</td>\n",
              "      <td>False</td>\n",
              "    </tr>\n",
              "  </tbody>\n",
              "</table>\n",
              "</div>"
            ],
            "text/plain": [
              "   survived  pclass     sex   age  ...  deck  embark_town  alive  alone\n",
              "0         0       3    male  22.0  ...   NaN  Southampton     no  False\n",
              "1         1       1  female  38.0  ...     C    Cherbourg    yes  False\n",
              "2         1       3  female  26.0  ...   NaN  Southampton    yes   True\n",
              "3         1       1  female  35.0  ...     C  Southampton    yes  False\n",
              "4         0       3    male  35.0  ...   NaN  Southampton     no   True\n",
              "5         0       3    male   NaN  ...   NaN   Queenstown     no   True\n",
              "6         0       1    male  54.0  ...     E  Southampton     no   True\n",
              "7         0       3    male   2.0  ...   NaN  Southampton     no  False\n",
              "8         1       3  female  27.0  ...   NaN  Southampton    yes  False\n",
              "9         1       2  female  14.0  ...   NaN    Cherbourg    yes  False\n",
              "\n",
              "[10 rows x 15 columns]"
            ]
          },
          "metadata": {
            "tags": []
          },
          "execution_count": 4
        }
      ]
    },
    {
      "cell_type": "markdown",
      "metadata": {
        "id": "ighfV7svRCHd"
      },
      "source": [
        "위에 출력된 테이블을 통해서 각 열의 데이터 타입을 유추해보고, 아래 코드를 실행해서 확인해보자. int64, float64로 표기된 열은 수치형 자료이고, object, category, bool은 범주형 자료임을 알 수 있다. 일부 열은 범주형 자료가 수치형으로 저장된 것을 확인할 수 있다.\n",
        "\n",
        "[참조: titatnic dataset description](https://data.world/nrippner/titanic-disaster-dataset)\n",
        "\n",
        "[참조: pandas dtype](https://pbpython.com/pandas_dtypes.html)"
      ]
    },
    {
      "cell_type": "code",
      "metadata": {
        "id": "fdIm7uLyRKrS",
        "colab": {
          "base_uri": "https://localhost:8080/"
        },
        "outputId": "87be700a-cb3e-4814-b62e-7a022399946d"
      },
      "source": [
        "titanic.dtypes"
      ],
      "execution_count": null,
      "outputs": [
        {
          "output_type": "execute_result",
          "data": {
            "text/plain": [
              "survived          int64\n",
              "pclass            int64\n",
              "sex              object\n",
              "age             float64\n",
              "sibsp             int64\n",
              "parch             int64\n",
              "fare            float64\n",
              "embarked         object\n",
              "class          category\n",
              "who              object\n",
              "adult_male         bool\n",
              "deck           category\n",
              "embark_town      object\n",
              "alive            object\n",
              "alone              bool\n",
              "dtype: object"
            ]
          },
          "metadata": {
            "tags": []
          },
          "execution_count": 5
        }
      ]
    },
    {
      "cell_type": "markdown",
      "metadata": {
        "id": "0mabiIWXjKH9"
      },
      "source": [
        "수치형 자료의 경우 아래 코드를 통해서 기초통계량을 확인해 볼 수 있다."
      ]
    },
    {
      "cell_type": "code",
      "metadata": {
        "id": "UgNM9PlejUBH",
        "colab": {
          "base_uri": "https://localhost:8080/",
          "height": 282
        },
        "outputId": "a2b3287b-4ed3-483c-ff30-9db36fe78ac6"
      },
      "source": [
        "titanic.describe()"
      ],
      "execution_count": null,
      "outputs": [
        {
          "output_type": "execute_result",
          "data": {
            "text/html": [
              "<div>\n",
              "<style scoped>\n",
              "    .dataframe tbody tr th:only-of-type {\n",
              "        vertical-align: middle;\n",
              "    }\n",
              "\n",
              "    .dataframe tbody tr th {\n",
              "        vertical-align: top;\n",
              "    }\n",
              "\n",
              "    .dataframe thead th {\n",
              "        text-align: right;\n",
              "    }\n",
              "</style>\n",
              "<table border=\"1\" class=\"dataframe\">\n",
              "  <thead>\n",
              "    <tr style=\"text-align: right;\">\n",
              "      <th></th>\n",
              "      <th>survived</th>\n",
              "      <th>pclass</th>\n",
              "      <th>age</th>\n",
              "      <th>sibsp</th>\n",
              "      <th>parch</th>\n",
              "      <th>fare</th>\n",
              "    </tr>\n",
              "  </thead>\n",
              "  <tbody>\n",
              "    <tr>\n",
              "      <th>count</th>\n",
              "      <td>891.000000</td>\n",
              "      <td>891.000000</td>\n",
              "      <td>714.000000</td>\n",
              "      <td>891.000000</td>\n",
              "      <td>891.000000</td>\n",
              "      <td>891.000000</td>\n",
              "    </tr>\n",
              "    <tr>\n",
              "      <th>mean</th>\n",
              "      <td>0.383838</td>\n",
              "      <td>2.308642</td>\n",
              "      <td>29.699118</td>\n",
              "      <td>0.523008</td>\n",
              "      <td>0.381594</td>\n",
              "      <td>32.204208</td>\n",
              "    </tr>\n",
              "    <tr>\n",
              "      <th>std</th>\n",
              "      <td>0.486592</td>\n",
              "      <td>0.836071</td>\n",
              "      <td>14.526497</td>\n",
              "      <td>1.102743</td>\n",
              "      <td>0.806057</td>\n",
              "      <td>49.693429</td>\n",
              "    </tr>\n",
              "    <tr>\n",
              "      <th>min</th>\n",
              "      <td>0.000000</td>\n",
              "      <td>1.000000</td>\n",
              "      <td>0.420000</td>\n",
              "      <td>0.000000</td>\n",
              "      <td>0.000000</td>\n",
              "      <td>0.000000</td>\n",
              "    </tr>\n",
              "    <tr>\n",
              "      <th>25%</th>\n",
              "      <td>0.000000</td>\n",
              "      <td>2.000000</td>\n",
              "      <td>20.125000</td>\n",
              "      <td>0.000000</td>\n",
              "      <td>0.000000</td>\n",
              "      <td>7.910400</td>\n",
              "    </tr>\n",
              "    <tr>\n",
              "      <th>50%</th>\n",
              "      <td>0.000000</td>\n",
              "      <td>3.000000</td>\n",
              "      <td>28.000000</td>\n",
              "      <td>0.000000</td>\n",
              "      <td>0.000000</td>\n",
              "      <td>14.454200</td>\n",
              "    </tr>\n",
              "    <tr>\n",
              "      <th>75%</th>\n",
              "      <td>1.000000</td>\n",
              "      <td>3.000000</td>\n",
              "      <td>38.000000</td>\n",
              "      <td>1.000000</td>\n",
              "      <td>0.000000</td>\n",
              "      <td>31.000000</td>\n",
              "    </tr>\n",
              "    <tr>\n",
              "      <th>max</th>\n",
              "      <td>1.000000</td>\n",
              "      <td>3.000000</td>\n",
              "      <td>80.000000</td>\n",
              "      <td>8.000000</td>\n",
              "      <td>6.000000</td>\n",
              "      <td>512.329200</td>\n",
              "    </tr>\n",
              "  </tbody>\n",
              "</table>\n",
              "</div>"
            ],
            "text/plain": [
              "         survived      pclass         age       sibsp       parch        fare\n",
              "count  891.000000  891.000000  714.000000  891.000000  891.000000  891.000000\n",
              "mean     0.383838    2.308642   29.699118    0.523008    0.381594   32.204208\n",
              "std      0.486592    0.836071   14.526497    1.102743    0.806057   49.693429\n",
              "min      0.000000    1.000000    0.420000    0.000000    0.000000    0.000000\n",
              "25%      0.000000    2.000000   20.125000    0.000000    0.000000    7.910400\n",
              "50%      0.000000    3.000000   28.000000    0.000000    0.000000   14.454200\n",
              "75%      1.000000    3.000000   38.000000    1.000000    0.000000   31.000000\n",
              "max      1.000000    3.000000   80.000000    8.000000    6.000000  512.329200"
            ]
          },
          "metadata": {
            "tags": []
          },
          "execution_count": 6
        }
      ]
    },
    {
      "cell_type": "markdown",
      "metadata": {
        "id": "LNm0tvh5jeiC"
      },
      "source": [
        "데이터셋의 전체 행 갯수가 891인데 일부 변수들은 count가 891보다 작은 것으로 보아 일부 값이 누락되었음을 확인할 수 있다. head()로 출력한 테이블에서 NaN으로 표기된 값들이 누락된 값들이다. 테이블에 계산된 평균, 표준편차 등은 누락된 값을 제외하고 계산한 값이다. info() 메소드를 사용하면 모든 변수들에 대한 dtype과 count를 확인할 수 있다."
      ]
    },
    {
      "cell_type": "code",
      "metadata": {
        "id": "_xkoscRUm_Ni",
        "colab": {
          "base_uri": "https://localhost:8080/"
        },
        "outputId": "24aaed24-6279-45b0-cd70-67298f283de5"
      },
      "source": [
        "titanic.info()"
      ],
      "execution_count": null,
      "outputs": [
        {
          "output_type": "stream",
          "text": [
            "<class 'pandas.core.frame.DataFrame'>\n",
            "RangeIndex: 891 entries, 0 to 890\n",
            "Data columns (total 15 columns):\n",
            " #   Column       Non-Null Count  Dtype   \n",
            "---  ------       --------------  -----   \n",
            " 0   survived     891 non-null    int64   \n",
            " 1   pclass       891 non-null    int64   \n",
            " 2   sex          891 non-null    object  \n",
            " 3   age          714 non-null    float64 \n",
            " 4   sibsp        891 non-null    int64   \n",
            " 5   parch        891 non-null    int64   \n",
            " 6   fare         891 non-null    float64 \n",
            " 7   embarked     889 non-null    object  \n",
            " 8   class        891 non-null    category\n",
            " 9   who          891 non-null    object  \n",
            " 10  adult_male   891 non-null    bool    \n",
            " 11  deck         203 non-null    category\n",
            " 12  embark_town  889 non-null    object  \n",
            " 13  alive        891 non-null    object  \n",
            " 14  alone        891 non-null    bool    \n",
            "dtypes: bool(2), category(2), float64(2), int64(4), object(5)\n",
            "memory usage: 80.6+ KB\n"
          ],
          "name": "stdout"
        }
      ]
    },
    {
      "cell_type": "markdown",
      "metadata": {
        "id": "wjsOI4hQnVSw"
      },
      "source": [
        "확인해보니 deck에는 누락된 값이 너무 많다. 제거하자."
      ]
    },
    {
      "cell_type": "code",
      "metadata": {
        "id": "VrxabGYpoDsi",
        "colab": {
          "base_uri": "https://localhost:8080/"
        },
        "outputId": "bdf7e5b3-cf15-4ba2-fa97-1017c587a09c"
      },
      "source": [
        "titanic.drop('deck', inplace=True, axis=1)\n",
        "titanic.info()"
      ],
      "execution_count": null,
      "outputs": [
        {
          "output_type": "stream",
          "text": [
            "<class 'pandas.core.frame.DataFrame'>\n",
            "RangeIndex: 891 entries, 0 to 890\n",
            "Data columns (total 14 columns):\n",
            " #   Column       Non-Null Count  Dtype   \n",
            "---  ------       --------------  -----   \n",
            " 0   survived     891 non-null    int64   \n",
            " 1   pclass       891 non-null    int64   \n",
            " 2   sex          891 non-null    object  \n",
            " 3   age          714 non-null    float64 \n",
            " 4   sibsp        891 non-null    int64   \n",
            " 5   parch        891 non-null    int64   \n",
            " 6   fare         891 non-null    float64 \n",
            " 7   embarked     889 non-null    object  \n",
            " 8   class        891 non-null    category\n",
            " 9   who          891 non-null    object  \n",
            " 10  adult_male   891 non-null    bool    \n",
            " 11  embark_town  889 non-null    object  \n",
            " 12  alive        891 non-null    object  \n",
            " 13  alone        891 non-null    bool    \n",
            "dtypes: bool(2), category(1), float64(2), int64(4), object(5)\n",
            "memory usage: 79.4+ KB\n"
          ],
          "name": "stdout"
        }
      ]
    },
    {
      "cell_type": "markdown",
      "metadata": {
        "id": "v8DhIhZGEj10"
      },
      "source": [
        "## T1. 도수분포표 만들기\n",
        "타이타닉에 승선한 남녀 비율이 궁금하다. 우선 [crosstab](https://pandas.pydata.org/docs/reference/api/pandas.crosstab.html) 메소드를 사용해 남녀 도수분포표를 만들어 보자. \n"
      ]
    },
    {
      "cell_type": "code",
      "metadata": {
        "id": "fk7dwctRFNzi",
        "colab": {
          "base_uri": "https://localhost:8080/",
          "height": 164
        },
        "outputId": "a8b6ca8c-d9b7-4e50-d84e-0fa4043ed53e"
      },
      "source": [
        "## To Do\n",
        "pd.crosstab(titanic['sex'], titanic['survived'], margins = True)\n"
      ],
      "execution_count": null,
      "outputs": [
        {
          "output_type": "execute_result",
          "data": {
            "text/html": [
              "<div>\n",
              "<style scoped>\n",
              "    .dataframe tbody tr th:only-of-type {\n",
              "        vertical-align: middle;\n",
              "    }\n",
              "\n",
              "    .dataframe tbody tr th {\n",
              "        vertical-align: top;\n",
              "    }\n",
              "\n",
              "    .dataframe thead th {\n",
              "        text-align: right;\n",
              "    }\n",
              "</style>\n",
              "<table border=\"1\" class=\"dataframe\">\n",
              "  <thead>\n",
              "    <tr style=\"text-align: right;\">\n",
              "      <th>survived</th>\n",
              "      <th>0</th>\n",
              "      <th>1</th>\n",
              "      <th>All</th>\n",
              "    </tr>\n",
              "    <tr>\n",
              "      <th>sex</th>\n",
              "      <th></th>\n",
              "      <th></th>\n",
              "      <th></th>\n",
              "    </tr>\n",
              "  </thead>\n",
              "  <tbody>\n",
              "    <tr>\n",
              "      <th>female</th>\n",
              "      <td>81</td>\n",
              "      <td>233</td>\n",
              "      <td>314</td>\n",
              "    </tr>\n",
              "    <tr>\n",
              "      <th>male</th>\n",
              "      <td>468</td>\n",
              "      <td>109</td>\n",
              "      <td>577</td>\n",
              "    </tr>\n",
              "    <tr>\n",
              "      <th>All</th>\n",
              "      <td>549</td>\n",
              "      <td>342</td>\n",
              "      <td>891</td>\n",
              "    </tr>\n",
              "  </tbody>\n",
              "</table>\n",
              "</div>"
            ],
            "text/plain": [
              "survived    0    1  All\n",
              "sex                    \n",
              "female     81  233  314\n",
              "male      468  109  577\n",
              "All       549  342  891"
            ]
          },
          "metadata": {
            "tags": []
          },
          "execution_count": 9
        }
      ]
    },
    {
      "cell_type": "markdown",
      "metadata": {
        "id": "S4V5_jS_o-Xw"
      },
      "source": [
        "간단히 빈도를 확인할때는 crosstab보다 value_counts 메소드가 더 적합하다."
      ]
    },
    {
      "cell_type": "code",
      "metadata": {
        "id": "EGEvz_IHpOVu",
        "colab": {
          "base_uri": "https://localhost:8080/"
        },
        "outputId": "2e77ce7c-10e6-44b4-da26-922f93e724be"
      },
      "source": [
        "titanic[\"sex\"].value_counts()"
      ],
      "execution_count": null,
      "outputs": [
        {
          "output_type": "execute_result",
          "data": {
            "text/plain": [
              "male      577\n",
              "female    314\n",
              "Name: sex, dtype: int64"
            ]
          },
          "metadata": {
            "tags": []
          },
          "execution_count": 10
        }
      ]
    },
    {
      "cell_type": "code",
      "metadata": {
        "id": "cduvp6aMpDNJ",
        "colab": {
          "base_uri": "https://localhost:8080/"
        },
        "outputId": "02c9cb1e-8c9a-4061-eaab-403dfc280f7f"
      },
      "source": [
        "titanic[\"survived\"].value_counts()"
      ],
      "execution_count": null,
      "outputs": [
        {
          "output_type": "execute_result",
          "data": {
            "text/plain": [
              "0    549\n",
              "1    342\n",
              "Name: survived, dtype: int64"
            ]
          },
          "metadata": {
            "tags": []
          },
          "execution_count": 11
        }
      ]
    },
    {
      "cell_type": "code",
      "metadata": {
        "id": "YzxihOdbsGhi",
        "colab": {
          "base_uri": "https://localhost:8080/"
        },
        "outputId": "62e4a711-b480-4937-dd72-d080bf3d10b6"
      },
      "source": [
        "titanic[\"class\"].value_counts().sort_index()"
      ],
      "execution_count": null,
      "outputs": [
        {
          "output_type": "execute_result",
          "data": {
            "text/plain": [
              "First     216\n",
              "Second    184\n",
              "Third     491\n",
              "Name: class, dtype: int64"
            ]
          },
          "metadata": {
            "tags": []
          },
          "execution_count": 12
        }
      ]
    },
    {
      "cell_type": "code",
      "metadata": {
        "id": "pm8SnIc0tGZz",
        "colab": {
          "base_uri": "https://localhost:8080/"
        },
        "outputId": "9a8391f4-af05-44dd-9aa1-5c298e89767a"
      },
      "source": [
        "titanic[\"embark_town\"].value_counts().sort_index()"
      ],
      "execution_count": null,
      "outputs": [
        {
          "output_type": "execute_result",
          "data": {
            "text/plain": [
              "Cherbourg      168\n",
              "Queenstown      77\n",
              "Southampton    644\n",
              "Name: embark_town, dtype: int64"
            ]
          },
          "metadata": {
            "tags": []
          },
          "execution_count": 13
        }
      ]
    },
    {
      "cell_type": "markdown",
      "metadata": {
        "id": "QHlvFAxTrIM7"
      },
      "source": [
        "대략 남자가 더 많이 탔고, 과반수 이상이 사망했으며, 2등객실 승객이 가장 적었고, Southampton에서 대다수의 승객이 탑승한 것을 확인할 수 있다."
      ]
    },
    {
      "cell_type": "markdown",
      "metadata": {
        "id": "CLRjD-1J5F1A"
      },
      "source": [
        "## T2. 파이차트\n",
        "한눈에 남녀 비율을 파악하고 싶다. \n",
        "아래 그림 처럼 파이차트를 출력하는 코드를 작성해 보자.\n",
        "\n",
        "\n",
        "![picture](https://drive.google.com/uc?id=1-SnmdWshpBsnZAlBkVNp02PZQj2mUuDd)"
      ]
    },
    {
      "cell_type": "code",
      "metadata": {
        "id": "MLscPbOM5E06",
        "colab": {
          "base_uri": "https://localhost:8080/",
          "height": 248
        },
        "outputId": "c16a9c60-4867-46c7-eba6-62e780491616"
      },
      "source": [
        "## To Do\n",
        "colors = ['darkorange', 'royalblue']\n",
        "titanic[\"sex\"].value_counts().plot.pie(autopct='%0.01f%%', ylabel = \"Sex\", counterclock = False, colors = colors)\n",
        "plt.show()"
      ],
      "execution_count": null,
      "outputs": [
        {
          "output_type": "display_data",
          "data": {
            "image/png": "[encoded data removed]",
            "text/plain": [
              "<Figure size 432x288 with 1 Axes>"
            ]
          },
          "metadata": {
            "tags": []
          }
        }
      ]
    },
    {
      "cell_type": "markdown",
      "metadata": {
        "id": "gzcUvarcFm92"
      },
      "source": [
        "\n",
        "영화 타이타닉에서 아이들과 여성들을 먼저 구명보트에 태우는 장면이 있었다. 정말 그랬었는지 확인해보자. 우선 아이와 어른으로 그룹을 나눠서 확인해보자.\n",
        "\n",
        "두개의 시리즈를 이용해서 DataFrame을 만들 수 있다. 생성된 DataFrame을 df라고 할때, df.T 를 통해서 Transpose된 데이터셋에 접근할 수 있다. df.index를 인덱스 이름을 df.columns를 이용해서 열 이름을 변경할 수 있다. "
      ]
    },
    {
      "cell_type": "code",
      "metadata": {
        "id": "lwrUl8T6yVbG",
        "colab": {
          "base_uri": "https://localhost:8080/"
        },
        "outputId": "294b4096-10c1-492f-a0de-26b19714b83a"
      },
      "source": [
        "child = titanic[titanic['who']=='child']['survived'].value_counts()\n",
        "adult = titanic[titanic['who']!='child']['survived'].value_counts()\n",
        "df = pd.DataFrame([child, adult], index = ['survived', 'died'])\n",
        "df.index = ['child', 'adult']\n",
        "df.columns = ['died', 'survived']\n",
        "print(df)"
      ],
      "execution_count": null,
      "outputs": [
        {
          "output_type": "stream",
          "text": [
            "       died  survived\n",
            "child    34        49\n",
            "adult   515       293\n"
          ],
          "name": "stdout"
        }
      ]
    },
    {
      "cell_type": "markdown",
      "metadata": {
        "id": "Rpc5nEb33CNG"
      },
      "source": [
        "아래와 같은 파이차트를 그려보자. \n",
        "\n",
        "![picture](https://drive.google.com/uc?id=1-XTGHMrTMEuCBU_kyFxQT0LB0IiPmIPv)\n",
        "\n",
        "[참조: pandas visualization](https://pandas.pydata.org/pandas-docs/stable/user_guide/visualization.html)"
      ]
    },
    {
      "cell_type": "code",
      "metadata": {
        "colab": {
          "base_uri": "https://localhost:8080/"
        },
        "id": "myDf0190gWBu",
        "outputId": "280f767c-000d-4745-8c9a-06f85ccb81a5"
      },
      "source": [
        "series = pd.Series(child[0], index = [\"survived\", \"died\"])\n",
        "print(series)"
      ],
      "execution_count": null,
      "outputs": [
        {
          "output_type": "stream",
          "text": [
            "survived    34\n",
            "died        34\n",
            "dtype: int64\n"
          ],
          "name": "stdout"
        }
      ]
    },
    {
      "cell_type": "code",
      "metadata": {
        "id": "hAZeI6uOzT2Y",
        "colab": {
          "base_uri": "https://localhost:8080/",
          "height": 183
        },
        "outputId": "1f3cb4db-bc7f-42ae-f037-ca97d161dda6"
      },
      "source": [
        "## To Do\n",
        "f, ax = plt.subplots(1, 2, figsize=(6, 6))\n",
        "\n",
        "labels = 'survived', 'died'\n",
        "labels2 = 'died', 'survived'\n",
        "child.plot.pie(ax=ax[0], labels = labels, counterclock = False, legend = True)\n",
        "ax[0].set_ylabel('child')\n",
        "adult.plot.pie(ax=ax[1], labels = labels2, legend = True)\n",
        "ax[1].set_ylabel('adult')\n",
        "\n",
        "plt.show()"
      ],
      "execution_count": null,
      "outputs": [
        {
          "output_type": "display_data",
          "data": {
            "image/png": "[encoded data removed]",
            "text/plain": [
              "<Figure size 432x432 with 2 Axes>"
            ]
          },
          "metadata": {
            "tags": []
          }
        }
      ]
    },
    {
      "cell_type": "markdown",
      "metadata": {
        "id": "rGM0zDZI3kKc"
      },
      "source": [
        "파이차트로 그려보니 아이들의 생존율이 어른보다 약간 더 높아 보인다.\n",
        "\n",
        "동일하게 성별 별로 그려보면 아래와 같은 파이차트를 얻을 수 있다.\n",
        "\n",
        "![picture](https://drive.google.com/uc?id=1-XwC8SVyMsdJXGQVZUFRk67UhwMYiRSY)\n",
        "\n",
        "위 차트를 보면 남녀별로 생존율에 큰 차이를 볼 수 있다.\n",
        "\n"
      ]
    },
    {
      "cell_type": "markdown",
      "metadata": {
        "id": "8r6TFapRk4zQ"
      },
      "source": [
        "## T3. 막대그래프\n",
        "\n",
        "위 파이차트로 생존/사망자의 남녀별 비율을 확인해보았다.\n",
        "이번엔 각 성별 별 전체 탑승인원에 생존자 수를 보여주는 누적 막대 그래프를 아래와 같이 그려보자.\n",
        "\n",
        "![picture](https://drive.google.com/uc?id=1-UEmDC3lpBkkMhkXiNeK0S60Vn8FIWOW)\n"
      ]
    },
    {
      "cell_type": "code",
      "metadata": {
        "id": "HQyzeUYgtyK6"
      },
      "source": [
        "male = titanic[titanic['sex']=='male']['survived'].value_counts()\n",
        "female = titanic[titanic['sex']=='female']['survived'].value_counts()"
      ],
      "execution_count": null,
      "outputs": []
    },
    {
      "cell_type": "code",
      "metadata": {
        "colab": {
          "base_uri": "https://localhost:8080/"
        },
        "id": "Q0TDM9Y5nbjd",
        "outputId": "cf02cd57-6dab-4c94-ee9b-d99824c204c2"
      },
      "source": [
        "male"
      ],
      "execution_count": null,
      "outputs": [
        {
          "output_type": "execute_result",
          "data": {
            "text/plain": [
              "0    468\n",
              "1    109\n",
              "Name: survived, dtype: int64"
            ]
          },
          "metadata": {
            "tags": []
          },
          "execution_count": 19
        }
      ]
    },
    {
      "cell_type": "code",
      "metadata": {
        "id": "wDqpPMXnk94r",
        "colab": {
          "base_uri": "https://localhost:8080/",
          "height": 311
        },
        "outputId": "3df21697-7063-4938-8e35-864fbe493843"
      },
      "source": [
        "## To Do \n",
        "df = pd.DataFrame([male, female], index = [\"male\", \"female\"])\n",
        "df.plot.bar(stacked = True)\n",
        "plt.legend(['died', 'survived'])"
      ],
      "execution_count": null,
      "outputs": [
        {
          "output_type": "execute_result",
          "data": {
            "text/plain": [
              "<matplotlib.legend.Legend at 0x7fc27f92de50>"
            ]
          },
          "metadata": {
            "tags": []
          },
          "execution_count": 20
        },
        {
          "output_type": "display_data",
          "data": {
            "image/png": "[encoded data removed]",
            "text/plain": [
              "<Figure size 432x288 with 1 Axes>"
            ]
          },
          "metadata": {
            "tags": [],
            "needs_background": "light"
          }
        }
      ]
    },
    {
      "cell_type": "markdown",
      "metadata": {
        "id": "IljTuVrz1wmh"
      },
      "source": [
        "위 누적 막대그래프로\n",
        "\n",
        "\n",
        "*   승객 중 남자가 많았음.\n",
        "*   여성 승객이 더 많이 생존했음. \n",
        "*   남성 승객은 생존자보다 사망자가 많았음.\n",
        "\n",
        "등을 확인할 수 있다.\n",
        "\n"
      ]
    },
    {
      "cell_type": "markdown",
      "metadata": {
        "id": "msUSnrryn_zn"
      },
      "source": [
        "## T4. Box plots\n",
        "\n",
        "위에 head로 살펴본 데이터에서 이상한 점이 발견되었다. 같은 등급객실임에도 지불한 가격이 다르다. \n",
        "객실별 가격을 아래처럼 Box plot으로 그려보자.\n",
        "\n",
        "![picture](https://drive.google.com/uc?id=1-Zj4MjHnoKeQ6wXzXn2KEWL_eXbPvDny)"
      ]
    },
    {
      "cell_type": "code",
      "metadata": {
        "id": "qYKy99TyAPfq",
        "colab": {
          "base_uri": "https://localhost:8080/",
          "height": 298
        },
        "outputId": "f6d4d4f2-7ca3-4696-992f-6e14acd90f51"
      },
      "source": [
        "## To Do\n",
        "sns.boxplot(x = titanic['class'], y = titanic['fare'])"
      ],
      "execution_count": null,
      "outputs": [
        {
          "output_type": "execute_result",
          "data": {
            "text/plain": [
              "<matplotlib.axes._subplots.AxesSubplot at 0x7fc27f795690>"
            ]
          },
          "metadata": {
            "tags": []
          },
          "execution_count": 21
        },
        {
          "output_type": "display_data",
          "data": {
            "image/png": "[encoded data removed]",
            "text/plain": [
              "<Figure size 432x288 with 1 Axes>"
            ]
          },
          "metadata": {
            "tags": [],
            "needs_background": "light"
          }
        }
      ]
    },
    {
      "cell_type": "markdown",
      "metadata": {
        "id": "o0r7OLNWCAq-"
      },
      "source": [
        "## T5. Scatter plot\n",
        "\n",
        "혹시 나이와 요금간에 상관관계가 있나 객실별로 아래와 같이 scatter plot을 그려보자.\n",
        "\n",
        "![picture](https://drive.google.com/uc?id=1-_pfgqoVwshU6GpdTdGz8Nm_34uUus6K)\n",
        "\n"
      ]
    },
    {
      "cell_type": "code",
      "metadata": {
        "id": "e10hoKh7CSF8",
        "colab": {
          "base_uri": "https://localhost:8080/",
          "height": 298
        },
        "outputId": "155cbdc2-66c6-45cc-f85a-8a06a0263815"
      },
      "source": [
        "## To Do\n",
        "sns.scatterplot(x = titanic['age'], y = titanic['fare'], hue = titanic['class'])"
      ],
      "execution_count": null,
      "outputs": [
        {
          "output_type": "execute_result",
          "data": {
            "text/plain": [
              "<matplotlib.axes._subplots.AxesSubplot at 0x7fc27f72a0d0>"
            ]
          },
          "metadata": {
            "tags": []
          },
          "execution_count": 22
        },
        {
          "output_type": "display_data",
          "data": {
            "image/png": "[encoded data removed]",
            "text/plain": [
              "<Figure size 432x288 with 1 Axes>"
            ]
          },
          "metadata": {
            "tags": [],
            "needs_background": "light"
          }
        }
      ]
    },
    {
      "cell_type": "markdown",
      "metadata": {
        "id": "W9M67eRmEJe4"
      },
      "source": [
        "나이와 요금사이에 특별한 상관관계는 보이지 않는다.\n"
      ]
    }
  ]
}