{
 "cells": [
  {
   "cell_type": "markdown",
   "metadata": {},
   "source": [
    "# .py로 바꿔서 제출"
   ]
  },
  {
   "cell_type": "code",
   "execution_count": 1,
   "metadata": {},
   "outputs": [],
   "source": [
    "from PIL import Image\n",
    "import numpy as np\n",
    "import math"
   ]
  },
  {
   "cell_type": "markdown",
   "metadata": {},
   "source": [
    "## 1-1)"
   ]
  },
  {
   "cell_type": "code",
   "execution_count": 2,
   "metadata": {},
   "outputs": [],
   "source": [
    "# %%\n",
    "# 1\n",
    "def boxfilter(n):\n",
    "    # n % 2 == 1이면 통과, 아니면 Error 문구 출력하고 에러 처리\n",
    "    assert n % 2 == 1, \"Dimension must be odd\"\n",
    "    # numpy 이용해서 행렬 형태 만들어준다.\n",
    "    ret = (1/(n**2))*np.ones([n, n])\n",
    "    return ret\n"
   ]
  },
  {
   "cell_type": "code",
   "execution_count": 3,
   "metadata": {},
   "outputs": [
    {
     "data": {
      "text/plain": [
       "array([[0.11111111, 0.11111111, 0.11111111],\n",
       "       [0.11111111, 0.11111111, 0.11111111],\n",
       "       [0.11111111, 0.11111111, 0.11111111]])"
      ]
     },
     "execution_count": 3,
     "metadata": {},
     "output_type": "execute_result"
    }
   ],
   "source": [
    "boxfilter(3)"
   ]
  },
  {
   "cell_type": "code",
   "execution_count": 4,
   "metadata": {},
   "outputs": [
    {
     "ename": "AssertionError",
     "evalue": "Dimension must be odd",
     "output_type": "error",
     "traceback": [
      "\u001b[1;31m---------------------------------------------------------------------------\u001b[0m",
      "\u001b[1;31mAssertionError\u001b[0m                            Traceback (most recent call last)",
      "\u001b[1;32m<ipython-input-4-5870f78beb34>\u001b[0m in \u001b[0;36m<module>\u001b[1;34m\u001b[0m\n\u001b[1;32m----> 1\u001b[1;33m \u001b[0mboxfilter\u001b[0m\u001b[1;33m(\u001b[0m\u001b[1;36m4\u001b[0m\u001b[1;33m)\u001b[0m\u001b[1;33m\u001b[0m\u001b[1;33m\u001b[0m\u001b[0m\n\u001b[0m",
      "\u001b[1;32m<ipython-input-2-57c29ebf796a>\u001b[0m in \u001b[0;36mboxfilter\u001b[1;34m(n)\u001b[0m\n\u001b[0;32m      3\u001b[0m \u001b[1;32mdef\u001b[0m \u001b[0mboxfilter\u001b[0m\u001b[1;33m(\u001b[0m\u001b[0mn\u001b[0m\u001b[1;33m)\u001b[0m\u001b[1;33m:\u001b[0m\u001b[1;33m\u001b[0m\u001b[1;33m\u001b[0m\u001b[0m\n\u001b[0;32m      4\u001b[0m     \u001b[1;31m# n % 2 == 1이면 통과, 아니면 Error 문구 출력하고 에러 처리\u001b[0m\u001b[1;33m\u001b[0m\u001b[1;33m\u001b[0m\u001b[1;33m\u001b[0m\u001b[0m\n\u001b[1;32m----> 5\u001b[1;33m     \u001b[1;32massert\u001b[0m \u001b[0mn\u001b[0m \u001b[1;33m%\u001b[0m \u001b[1;36m2\u001b[0m \u001b[1;33m==\u001b[0m \u001b[1;36m1\u001b[0m\u001b[1;33m,\u001b[0m \u001b[1;34m\"Dimension must be odd\"\u001b[0m\u001b[1;33m\u001b[0m\u001b[1;33m\u001b[0m\u001b[0m\n\u001b[0m\u001b[0;32m      6\u001b[0m     \u001b[1;31m# numpy 이용해서 행렬 형태 만들어준다.\u001b[0m\u001b[1;33m\u001b[0m\u001b[1;33m\u001b[0m\u001b[1;33m\u001b[0m\u001b[0m\n\u001b[0;32m      7\u001b[0m     \u001b[0mret\u001b[0m \u001b[1;33m=\u001b[0m \u001b[1;33m(\u001b[0m\u001b[1;36m1\u001b[0m\u001b[1;33m/\u001b[0m\u001b[1;33m(\u001b[0m\u001b[0mn\u001b[0m\u001b[1;33m**\u001b[0m\u001b[1;36m2\u001b[0m\u001b[1;33m)\u001b[0m\u001b[1;33m)\u001b[0m\u001b[1;33m*\u001b[0m\u001b[0mnp\u001b[0m\u001b[1;33m.\u001b[0m\u001b[0mones\u001b[0m\u001b[1;33m(\u001b[0m\u001b[1;33m[\u001b[0m\u001b[0mn\u001b[0m\u001b[1;33m,\u001b[0m \u001b[0mn\u001b[0m\u001b[1;33m]\u001b[0m\u001b[1;33m)\u001b[0m\u001b[1;33m\u001b[0m\u001b[1;33m\u001b[0m\u001b[0m\n",
      "\u001b[1;31mAssertionError\u001b[0m: Dimension must be odd"
     ]
    }
   ],
   "source": [
    "boxfilter(4)"
   ]
  },
  {
   "cell_type": "code",
   "execution_count": null,
   "metadata": {},
   "outputs": [],
   "source": [
    "boxfilter(7)"
   ]
  },
  {
   "cell_type": "markdown",
   "metadata": {},
   "source": [
    "# 1-2)"
   ]
  },
  {
   "cell_type": "code",
   "execution_count": 5,
   "metadata": {},
   "outputs": [],
   "source": [
    "# %%\n",
    "# 2\n",
    "def gauss1d(sigma):\n",
    "    # sigma value가 0이 되서는 안된다.(sigma value가 0이면 분모가 0이 된다.)\n",
    "    assert sigma != 0, \"Sigma value sholudn't be zero\"\n",
    "    \n",
    "    # sigma를 6으로 곱하고 올림\n",
    "    length = int(math.ceil(float(sigma) * 6))\n",
    "    \n",
    "    # 짝수라면 홀수로 바꾸기 위해서 +1\n",
    "    if length % 2 == 0:\n",
    "        length += 1\n",
    "    \n",
    "    center = length // 2\n",
    "    \n",
    "    # -center ~ center의 1차원 배열 생성\n",
    "    x = np.arange(-center, center + 1)\n",
    "    \n",
    "    # sum to 1을 위한 처리\n",
    "    ret = np.exp(-(x**2)/(2*(sigma**2)))\n",
    "    ret /= np.sum(ret)\n",
    "    \n",
    "    return ret"
   ]
  },
  {
   "cell_type": "code",
   "execution_count": 6,
   "metadata": {},
   "outputs": [
    {
     "data": {
      "text/plain": [
       "array([0.00383626, 0.99232748, 0.00383626])"
      ]
     },
     "execution_count": 6,
     "metadata": {},
     "output_type": "execute_result"
    }
   ],
   "source": [
    "gauss1d(0.3)"
   ]
  },
  {
   "cell_type": "code",
   "execution_count": 7,
   "metadata": {},
   "outputs": [
    {
     "data": {
      "text/plain": [
       "array([0.10650698, 0.78698604, 0.10650698])"
      ]
     },
     "execution_count": 7,
     "metadata": {},
     "output_type": "execute_result"
    }
   ],
   "source": [
    "gauss1d(0.5)"
   ]
  },
  {
   "cell_type": "code",
   "execution_count": 8,
   "metadata": {},
   "outputs": [
    {
     "data": {
      "text/plain": [
       "array([0.00443305, 0.05400558, 0.24203623, 0.39905028, 0.24203623,\n",
       "       0.05400558, 0.00443305])"
      ]
     },
     "execution_count": 8,
     "metadata": {},
     "output_type": "execute_result"
    }
   ],
   "source": [
    "gauss1d(1)"
   ]
  },
  {
   "cell_type": "code",
   "execution_count": 9,
   "metadata": {},
   "outputs": [
    {
     "data": {
      "text/plain": [
       "array([0.0022182 , 0.00877313, 0.02702316, 0.06482519, 0.12110939,\n",
       "       0.17621312, 0.19967563, 0.17621312, 0.12110939, 0.06482519,\n",
       "       0.02702316, 0.00877313, 0.0022182 ])"
      ]
     },
     "execution_count": 9,
     "metadata": {},
     "output_type": "execute_result"
    }
   ],
   "source": [
    "gauss1d(2)"
   ]
  },
  {
   "cell_type": "markdown",
   "metadata": {},
   "source": [
    "# 1-3)"
   ]
  },
  {
   "cell_type": "code",
   "execution_count": 10,
   "metadata": {},
   "outputs": [],
   "source": [
    "# %%    \n",
    "# 3\n",
    "def gauss2d(sigma):\n",
    "    # np.outer(외적) 연산\n",
    "    ret = np.outer(gauss1d(sigma), gauss1d(sigma))\n",
    "    ret /= np.sum(ret)\n",
    "    return ret\n"
   ]
  },
  {
   "cell_type": "code",
   "execution_count": 11,
   "metadata": {},
   "outputs": [
    {
     "data": {
      "text/plain": [
       "array([[0.01134374, 0.08381951, 0.01134374],\n",
       "       [0.08381951, 0.61934703, 0.08381951],\n",
       "       [0.01134374, 0.08381951, 0.01134374]])"
      ]
     },
     "execution_count": 11,
     "metadata": {},
     "output_type": "execute_result"
    }
   ],
   "source": [
    "gauss2d(0.5)"
   ]
  },
  {
   "cell_type": "code",
   "execution_count": 12,
   "metadata": {},
   "outputs": [
    {
     "data": {
      "text/plain": [
       "array([[1.96519161e-05, 2.39409349e-04, 1.07295826e-03, 1.76900911e-03,\n",
       "        1.07295826e-03, 2.39409349e-04, 1.96519161e-05],\n",
       "       [2.39409349e-04, 2.91660295e-03, 1.30713076e-02, 2.15509428e-02,\n",
       "        1.30713076e-02, 2.91660295e-03, 2.39409349e-04],\n",
       "       [1.07295826e-03, 1.30713076e-02, 5.85815363e-02, 9.65846250e-02,\n",
       "        5.85815363e-02, 1.30713076e-02, 1.07295826e-03],\n",
       "       [1.76900911e-03, 2.15509428e-02, 9.65846250e-02, 1.59241126e-01,\n",
       "        9.65846250e-02, 2.15509428e-02, 1.76900911e-03],\n",
       "       [1.07295826e-03, 1.30713076e-02, 5.85815363e-02, 9.65846250e-02,\n",
       "        5.85815363e-02, 1.30713076e-02, 1.07295826e-03],\n",
       "       [2.39409349e-04, 2.91660295e-03, 1.30713076e-02, 2.15509428e-02,\n",
       "        1.30713076e-02, 2.91660295e-03, 2.39409349e-04],\n",
       "       [1.96519161e-05, 2.39409349e-04, 1.07295826e-03, 1.76900911e-03,\n",
       "        1.07295826e-03, 2.39409349e-04, 1.96519161e-05]])"
      ]
     },
     "execution_count": 12,
     "metadata": {},
     "output_type": "execute_result"
    }
   ],
   "source": [
    "gauss2d(1)"
   ]
  },
  {
   "cell_type": "code",
   "execution_count": 13,
   "metadata": {},
   "outputs": [],
   "source": [
    "# %%\n",
    "# 4\n",
    "# np.float32의 입력 변수\n",
    "def convolve2d(array, filter):\n",
    "    # np.flipud : 위, 아래 방향 뒤집기\n",
    "    # np.fliplr : 좌, 우 방향 뒤집기\n",
    "    \n",
    "    filter = np.flipud(np.fliplr(filter))\n",
    "    \n",
    "    pad = int(np.sqrt(filter.size)) # 19\n",
    "    pad2 = pad//2 # 9\n",
    "    \n",
    "    # 리턴값\n",
    "    output = np.zeros_like(array, dtype = 'float32')\n",
    "    \n",
    "    # Zero padding\n",
    "    padded = np.zeros((array.size[1] + 2*pad2, array.size[0] + 2*pad2))\n",
    "    padded[pad2:-pad2, pad2:-pad2] = array\n",
    "    \n",
    "    # 이중 for loop로 zero padding 구현\n",
    "    for x in range(array.size[0]):\n",
    "        for y in range(array.size[1]):\n",
    "            output[y,x] = (filter * padded[y:y+pad, x:x+pad]).sum()\n",
    "            \n",
    "    return output\n",
    "    \n",
    "from scipy import signal # 테스트 용도\n",
    "def gaussconvolve2d(array, sigma):\n",
    "    # sigma를 통해 gauss를 통해 convolution 연산을 통해 결과를.\n",
    "    # convolve2d와 gauss2d를 이용해서 만들면 된다.\n",
    "    filter = gauss2d(sigma)\n",
    "    # output = signal.convolve2d(array, filter, 'same') # 테스트 용도\n",
    "    output = convolve2d(array, filter)\n",
    "    \n",
    "    return output\n",
    "\n",
    "# gauss2d를 이용하기 위해서 grayscale로 변환해준다음에 적용해야 한다.\n",
    "# 배열을 float32로 변환해준 후, 다시 정수형으로 바꿔서 이미지파일로 변환해야함.\n",
    "\n",
    "# PIL을 이용해서 결과(이미지)를 보여주면 된다\n",
    "    "
   ]
  },
  {
   "cell_type": "markdown",
   "metadata": {},
   "source": [
    "## Original Image"
   ]
  },
  {
   "cell_type": "code",
   "execution_count": 14,
   "metadata": {},
   "outputs": [
    {
     "name": "stdout",
     "output_type": "stream",
     "text": [
      "<class 'PIL.BmpImagePlugin.BmpImageFile'>\n"
     ]
    }
   ],
   "source": [
    "# dog사진을 gaussconvolve2d를 통해 나온 결과값을 출력하면 된다.\n",
    "im = Image.open('Image/hw2_image/2b_dog.bmp')\n",
    "print(type(im))\n",
    "# color to grayscale\n",
    "im = im.convert('L')\n",
    "im.show()\n"
   ]
  },
  {
   "cell_type": "markdown",
   "metadata": {},
   "source": [
    "## filtered Image"
   ]
  },
  {
   "cell_type": "code",
   "execution_count": 15,
   "metadata": {},
   "outputs": [
    {
     "name": "stdout",
     "output_type": "stream",
     "text": [
      "[[ 81.8036   100.00801  115.4233   ...  12.830245  11.387731   9.534003]\n",
      " [ 99.94278  122.19637  141.04482  ...  15.678084  13.916371  11.651171]\n",
      " [115.23515  140.91483  162.67232  ...  18.083757  16.053658  13.441321]\n",
      " ...\n",
      " [ 32.498684  40.811886  48.47309  ...  31.991108  27.793146  22.785738]\n",
      " [ 27.935917  35.198284  41.94914  ...  26.927996  23.383022  19.160536]\n",
      " [ 22.716507  28.700226  34.300663 ...  21.51462   18.660168  15.271497]]\n",
      "<class 'numpy.ndarray'>\n"
     ]
    }
   ],
   "source": [
    "output = gaussconvolve2d(im, 3)\n",
    "print(output)\n",
    "# PIL로 출력하기 위해서 정수형 'uint8'로 변경\n",
    "print(type(output))\n",
    "output = output.astype('uint8')\n",
    "output2 = Image.fromarray(output)\n",
    "output2.show()"
   ]
  },
  {
   "cell_type": "markdown",
   "metadata": {},
   "source": [
    "# 2-1)\n",
    "low-pass filter\n",
    "sigma가 높으면 blur가 많이 되고,\n",
    "sigma가 낮으면 blur가 적게 됨.\n",
    "적절한 값을 조정해서 blur된 이미지가 나오도록.\n",
    "여기서는 rgb채널로 분리한 다음에 gauss filter로 convolution해준 후에 rgb 채널을 합쳐서 \n",
    "rgb 채널의 sigma가 동일하도록"
   ]
  },
  {
   "cell_type": "markdown",
   "metadata": {},
   "source": [
    "## bicycle and motorcycle"
   ]
  },
  {
   "cell_type": "code",
   "execution_count": 193,
   "metadata": {},
   "outputs": [],
   "source": [
    "# low-pass filter를 이용한 결과 + high-pass filter를 이용한 결과"
   ]
  },
  {
   "cell_type": "code",
   "execution_count": 194,
   "metadata": {},
   "outputs": [],
   "source": [
    "# 각각의 pair로 이를 적용한다. 1a1b, 2a2b, 3a3b를 리포트에 작성"
   ]
  },
  {
   "cell_type": "code",
   "execution_count": 195,
   "metadata": {},
   "outputs": [],
   "source": [
    "im1a = Image.open('Image/hw2_image/1a_bicycle.bmp').convert('RGB')"
   ]
  },
  {
   "cell_type": "code",
   "execution_count": 196,
   "metadata": {},
   "outputs": [],
   "source": [
    "# split()을 이용해 각 채널을 나누었다.\n",
    "red, green, blue = im1a.split()"
   ]
  },
  {
   "cell_type": "code",
   "execution_count": 197,
   "metadata": {},
   "outputs": [
    {
     "name": "stdout",
     "output_type": "stream",
     "text": [
      "[[199.27127 225.18292 225.47977 ... 225.56358 225.80228 199.35509]\n",
      " [224.57492 254.27715 254.68048 ... 254.69182 254.36096 224.58627]\n",
      " [225.39595 254.66913 255.      ... 255.      254.66913 225.39595]\n",
      " ...\n",
      " [226.26675 254.78699 255.      ... 255.      254.68048 225.47977]\n",
      " [226.07642 254.57397 254.78699 ... 254.78699 254.46747 225.28943]\n",
      " [200.76143 226.07642 226.26675 ... 226.26675 225.98126 200.05826]]\n"
     ]
    }
   ],
   "source": [
    "red = gaussconvolve2d(red, 0.5)\n",
    "print(red)\n",
    "# PIL로 출력하기 위해서 정수형 'uint8'로 변경\n",
    "red = red.astype('uint8')\n",
    "red = Image.fromarray(red)\n",
    "# red.show()"
   ]
  },
  {
   "cell_type": "code",
   "execution_count": 198,
   "metadata": {},
   "outputs": [
    {
     "name": "stdout",
     "output_type": "stream",
     "text": [
      "<PIL.Image.Image image mode=L size=453x300 at 0x1DC2B657FA0>\n"
     ]
    }
   ],
   "source": [
    "green = gaussconvolve2d(green, 0.5)\n",
    "print(red)\n",
    "# PIL로 출력하기 위해서 정수형 'uint8'로 변경\n",
    "green = green.astype('uint8')\n",
    "green = Image.fromarray(green)\n",
    "# green.show()"
   ]
  },
  {
   "cell_type": "code",
   "execution_count": 199,
   "metadata": {},
   "outputs": [
    {
     "name": "stdout",
     "output_type": "stream",
     "text": [
      "<PIL.Image.Image image mode=L size=453x300 at 0x1DC2B657FA0>\n"
     ]
    }
   ],
   "source": [
    "blue = gaussconvolve2d(blue, 0.5)\n",
    "print(red)\n",
    "# PIL로 출력하기 위해서 정수형 'uint8'로 변경\n",
    "blue = blue.astype('uint8')\n",
    "blue = Image.fromarray(blue)\n",
    "# blue.show()"
   ]
  },
  {
   "cell_type": "code",
   "execution_count": 200,
   "metadata": {},
   "outputs": [],
   "source": [
    "# merge()를 이용해 각 채널을 합쳤다.\n",
    "im1a_lowfreq = Image.merge(\"RGB\", (red, green, blue))\n",
    "# im1a_lowfreq.show()"
   ]
  },
  {
   "cell_type": "markdown",
   "metadata": {},
   "source": [
    "# 2-2)\n",
    "high-pass"
   ]
  },
  {
   "cell_type": "code",
   "execution_count": 201,
   "metadata": {},
   "outputs": [],
   "source": [
    "im1b = Image.open('Image/hw2_image/1b_motorcycle.bmp').convert('RGB')"
   ]
  },
  {
   "cell_type": "code",
   "execution_count": 202,
   "metadata": {},
   "outputs": [],
   "source": [
    "red_1b, green_1b, blue_1b = im1b.split()"
   ]
  },
  {
   "cell_type": "code",
   "execution_count": 219,
   "metadata": {},
   "outputs": [],
   "source": [
    "red_1b_lowfreq = gaussconvolve2d(red_1b, 2)\n",
    "red_1b_lowfreq = red_1b_lowfreq.astype('uint8')\n",
    "red_1b_lowfreq = Image.fromarray(red_1b_lowfreq)\n",
    "# red_1b_lowfreq.show()\n",
    "\n",
    "green_1b_lowfreq = gaussconvolve2d(green_1b, 2)\n",
    "green_1b_lowfreq = green_1b_lowfreq.astype('uint8')\n",
    "green_1b_lowfreq = Image.fromarray(green_1b_lowfreq)\n",
    "\n",
    "blue_1b_lowfreq = gaussconvolve2d(blue_1b, 2)\n",
    "blue_1b_lowfreq = blue_1b_lowfreq.astype('uint8')\n",
    "blue_1b_lowfreq = Image.fromarray(blue_1b_lowfreq)"
   ]
  },
  {
   "cell_type": "code",
   "execution_count": 220,
   "metadata": {},
   "outputs": [],
   "source": [
    "# R, G, B 각각을 다시 합친다.\n",
    "im1b_lowfreq = Image.merge(\"RGB\", (red_1b_lowfreq, green_1b_lowfreq, blue_1b_lowfreq))\n",
    "im1b_lowfreq.show()"
   ]
  },
  {
   "cell_type": "code",
   "execution_count": 221,
   "metadata": {},
   "outputs": [],
   "source": [
    "im1b = np.array(im1b)\n",
    "im1b_lowfreq = np.array(im1b_lowfreq)"
   ]
  },
  {
   "cell_type": "code",
   "execution_count": 222,
   "metadata": {},
   "outputs": [],
   "source": [
    "# 원본 이미지와 lowfreq filter를 이용하여 highfreq filter를 만들어주었다.\n",
    "im1b_highfreq = im1b - im1b_lowfreq + 128"
   ]
  },
  {
   "cell_type": "code",
   "execution_count": 223,
   "metadata": {},
   "outputs": [],
   "source": [
    "im1b_highfreq = Image.fromarray(im1b_highfreq)\n",
    "im1b_highfreq.show()"
   ]
  },
  {
   "cell_type": "markdown",
   "metadata": {},
   "source": [
    "# 2-3)\n",
    "high-pass + low-pass"
   ]
  },
  {
   "cell_type": "code",
   "execution_count": 224,
   "metadata": {},
   "outputs": [],
   "source": [
    "im1a_lowfreq.show()"
   ]
  },
  {
   "cell_type": "code",
   "execution_count": 225,
   "metadata": {},
   "outputs": [],
   "source": [
    "im1b_highfreq.show()"
   ]
  },
  {
   "cell_type": "code",
   "execution_count": 226,
   "metadata": {},
   "outputs": [],
   "source": [
    "output = np.array(im1a_lowfreq) + np.array(im1b_highfreq)\n",
    "output = Image.fromarray(output)\n",
    "output.show()"
   ]
  },
  {
   "cell_type": "code",
   "execution_count": null,
   "metadata": {},
   "outputs": [],
   "source": []
  }
 ],
 "metadata": {
  "kernelspec": {
   "display_name": "Python 3",
   "language": "python",
   "name": "python3"
  },
  "language_info": {
   "codemirror_mode": {
    "name": "ipython",
    "version": 3
   },
   "file_extension": ".py",
   "mimetype": "text/x-python",
   "name": "python",
   "nbconvert_exporter": "python",
   "pygments_lexer": "ipython3",
   "version": "3.8.3"
  }
 },
 "nbformat": 4,
 "nbformat_minor": 4
}
