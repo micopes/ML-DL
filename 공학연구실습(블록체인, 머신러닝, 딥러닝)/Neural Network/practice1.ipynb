{
 "cells": [
  {
   "cell_type": "code",
   "execution_count": 16,
   "metadata": {},
   "outputs": [],
   "source": [
    "# coding: utf-8 \n",
    "import sys, os \n",
    "import numpy as np \n",
    "import pickle \n",
    "from mnist import load_mnist \n",
    "from functions import sigmoid, softmax"
   ]
  },
  {
   "cell_type": "code",
   "execution_count": 17,
   "metadata": {},
   "outputs": [],
   "source": [
    "def get_data(): \n",
    "    (x_train, t_train), (x_test, t_test) = load_mnist(normalize=True, flatten=True, \n",
    "                                                      one_hot_label=False) \n",
    "    return x_test, t_test"
   ]
  },
  {
   "cell_type": "code",
   "execution_count": 18,
   "metadata": {},
   "outputs": [],
   "source": [
    "def init_network(): \n",
    "    with open(\"sample_weight.pkl\", 'rb') as f: \n",
    "        network = pickle.load(f) \n",
    "    return network"
   ]
  },
  {
   "cell_type": "code",
   "execution_count": 19,
   "metadata": {},
   "outputs": [],
   "source": [
    "def predict(network, x): \n",
    "    W1, W2, W3 = network['W1'], network['W2'], network['W3'] \n",
    "    b1, b2, b3 = network['b1'], network['b2'], network['b3']\n",
    "    \n",
    "    a1 = np.dot(x, W1) + b1 \n",
    "    z1 = sigmoid(a1) \n",
    "    a2 = np.dot(z1, W2) + b2 \n",
    "    z2 = sigmoid(a2) \n",
    "    a3 = np.dot(z2, W3) + b3 \n",
    "    y = softmax(a3) # output\n",
    "    \n",
    "    return y"
   ]
  },
  {
   "cell_type": "code",
   "execution_count": 20,
   "metadata": {},
   "outputs": [],
   "source": [
    "x, t = get_data() \n",
    "network = init_network()\n"
   ]
  },
  {
   "cell_type": "code",
   "execution_count": 26,
   "metadata": {},
   "outputs": [
    {
     "name": "stdout",
     "output_type": "stream",
     "text": [
      "Accuracy:0.9352\n"
     ]
    }
   ],
   "source": [
    "accuracy_cnt = 0 \n",
    "for i in range(len(x)): \n",
    "    y = predict(network, x[i]) \n",
    "    p= np.argmax(y) # 확률이 가장 높은 원소의 인덱스를 얻는다. \n",
    "    if p == t[i]: \n",
    "        accuracy_cnt += 1 \n",
    "print(\"Accuracy:\" + str(float(accuracy_cnt) / len(x))) "
   ]
  },
  {
   "cell_type": "code",
   "execution_count": null,
   "metadata": {},
   "outputs": [],
   "source": []
  }
 ],
 "metadata": {
  "kernelspec": {
   "display_name": "Python 3",
   "language": "python",
   "name": "python3"
  },
  "language_info": {
   "codemirror_mode": {
    "name": "ipython",
    "version": 3
   },
   "file_extension": ".py",
   "mimetype": "text/x-python",
   "name": "python",
   "nbconvert_exporter": "python",
   "pygments_lexer": "ipython3",
   "version": "3.8.3"
  }
 },
 "nbformat": 4,
 "nbformat_minor": 4
}
