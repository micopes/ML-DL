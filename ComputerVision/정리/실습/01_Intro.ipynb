{
 "cells": [
  {
   "cell_type": "markdown",
   "metadata": {},
   "source": [
    "# Intro to Python for Computer Vision"
   ]
  },
  {
   "cell_type": "markdown",
   "metadata": {},
   "source": [
    "- Load Library and Package"
   ]
  },
  {
   "cell_type": "code",
   "execution_count": 2,
   "metadata": {},
   "outputs": [],
   "source": [
    "from PIL import Image\n",
    "import numpy as np"
   ]
  },
  {
   "cell_type": "markdown",
   "metadata": {},
   "source": [
    "## im\n",
    "- **원래의 이미지를 확인**"
   ]
  },
  {
   "cell_type": "markdown",
   "metadata": {},
   "source": [
    "- 해당 경로에서 'eagle.png' 파일 읽기"
   ]
  },
  {
   "cell_type": "code",
   "execution_count": 3,
   "metadata": {},
   "outputs": [],
   "source": [
    "im = Image.open('eagle.png')"
   ]
  },
  {
   "cell_type": "markdown",
   "metadata": {},
   "source": [
    "- 크기, Mode(흑백, 컬러 등), 형식 "
   ]
  },
  {
   "cell_type": "code",
   "execution_count": 4,
   "metadata": {},
   "outputs": [
    {
     "name": "stdout",
     "output_type": "stream",
     "text": [
      "(1280, 854) RGB JPEG\n"
     ]
    }
   ],
   "source": [
    "print(im.size, im.mode, im.format)"
   ]
  },
  {
   "cell_type": "markdown",
   "metadata": {},
   "source": [
    "- 이미지 보기"
   ]
  },
  {
   "cell_type": "code",
   "execution_count": 5,
   "metadata": {},
   "outputs": [],
   "source": [
    "im.show()"
   ]
  },
  {
   "cell_type": "markdown",
   "metadata": {},
   "source": [
    "- color to grayscale"
   ]
  },
  {
   "cell_type": "code",
   "execution_count": 6,
   "metadata": {},
   "outputs": [],
   "source": [
    "im = im.convert('L')"
   ]
  },
  {
   "cell_type": "markdown",
   "metadata": {},
   "source": [
    "## im2\n",
    "- **원래의 이미지에서 머리 부분만 가져와서 저장**\n",
    "- **grayscale**"
   ]
  },
  {
   "cell_type": "markdown",
   "metadata": {},
   "source": [
    "- 특정 부분(새의 머리에 해당하는 부분) 자르고 저장"
   ]
  },
  {
   "cell_type": "code",
   "execution_count": 9,
   "metadata": {},
   "outputs": [],
   "source": [
    "im2 = im.crop((450, 300, 550, 400))\n",
    "im2.save('eagle_head.png','PNG')"
   ]
  },
  {
   "cell_type": "markdown",
   "metadata": {},
   "source": [
    "- PIL과 numpy는 내부 저장되는 구조가 다르기 때문에 numpy로 저장."
   ]
  },
  {
   "cell_type": "code",
   "execution_count": 10,
   "metadata": {},
   "outputs": [],
   "source": [
    "im2_array = np.asarray(im2)"
   ]
  },
  {
   "cell_type": "markdown",
   "metadata": {},
   "source": [
    "- 평균 계산(grayscale로 나타낸 것이므로 밝기 값)"
   ]
  },
  {
   "cell_type": "code",
   "execution_count": 12,
   "metadata": {},
   "outputs": [
    {
     "name": "stdout",
     "output_type": "stream",
     "text": [
      "116.5427\n"
     ]
    }
   ],
   "source": [
    "average = np.mean(im2_array)"
   ]
  },
  {
   "cell_type": "markdown",
   "metadata": {},
   "source": [
    "## im3\n",
    "- **im2 이미지에서 밝기를 밝게하여 저장**"
   ]
  },
  {
   "cell_type": "code",
   "execution_count": null,
   "metadata": {},
   "outputs": [],
   "source": [
    "im3_array = im2_array.copy()"
   ]
  },
  {
   "cell_type": "markdown",
   "metadata": {},
   "source": [
    "- 255가 최대 밝은 값이기 때문에 초과하면 255로 맞춰주고 전체적인 밝기를 50 증가시킨다."
   ]
  },
  {
   "cell_type": "code",
   "execution_count": null,
   "metadata": {},
   "outputs": [],
   "source": [
    "for x in range(0,100):\n",
    "    for y in range(0,100):\n",
    "        im3_array[y,x] = min(im3_array[y,x] + 50, 255)"
   ]
  },
  {
   "cell_type": "markdown",
   "metadata": {},
   "source": [
    "- 다시 PIL형식으로 바꿔준 후에 저장한다.(밝아진 값이 저장된다.)"
   ]
  },
  {
   "cell_type": "code",
   "execution_count": null,
   "metadata": {},
   "outputs": [],
   "source": [
    "im3 = Image.fromarray(im3_array)\n",
    "im3.save('eagle_head_bright.png', 'PNG')"
   ]
  },
  {
   "cell_type": "markdown",
   "metadata": {},
   "source": [
    "- 밝기값을 변경하지 않은 머리 부분을 가져온다.(array 값.)\n",
    "- 값을 0.5배를 함으로써 전체적으로 어두워진다.\n",
    "- 0-255로 나타내는 uint8로 값을 변경해주며, 다시 PIL로 변환해서 \n",
    "- 저장한다."
   ]
  },
  {
   "cell_type": "markdown",
   "metadata": {},
   "source": [
    "## im4\n",
    "- **im2 이미지에서 밝기를 어둡게하여 저장**"
   ]
  },
  {
   "cell_type": "code",
   "execution_count": 13,
   "metadata": {},
   "outputs": [],
   "source": [
    "im4_array = im2_array.copy()\n",
    "im4_array = im4_array * 0.5\n",
    "im4_array = im4_array.astype('uint8')\n",
    "im4 = Image.fromarray(im4_array)\n",
    "im4.save('eagle_head_dark.png','PNG')"
   ]
  },
  {
   "cell_type": "markdown",
   "metadata": {},
   "source": [
    "- grayscale값을 단순하게 저장해서 표현한다.\n",
    "- np.tile을 이용하여 오른쪽으로 갈수록 밝아지는 정사각형을 표현하였다.\n",
    "- 0-255의 값을 PIL로 변환해서 저장하였다."
   ]
  },
  {
   "cell_type": "markdown",
   "metadata": {},
   "source": [
    "## im5\n",
    "- **오른쪽으로 갈수록 어두워지는 것을 표현**\n",
    "- 사각형"
   ]
  },
  {
   "cell_type": "code",
   "execution_count": 16,
   "metadata": {},
   "outputs": [],
   "source": [
    "grad = np.arange(0,256)\n",
    "grad = np.tile(grad,[256,1])\n",
    "im5 = Image.fromarray(grad.astype('uint8'))\n",
    "im5.save('gradient.png','PNG')"
   ]
  },
  {
   "cell_type": "code",
   "execution_count": 15,
   "metadata": {},
   "outputs": [],
   "source": []
  },
  {
   "cell_type": "code",
   "execution_count": null,
   "metadata": {},
   "outputs": [],
   "source": [
    "\n"
   ]
  }
 ],
 "metadata": {
  "kernelspec": {
   "display_name": "Python 3",
   "language": "python",
   "name": "python3"
  },
  "language_info": {
   "codemirror_mode": {
    "name": "ipython",
    "version": 3
   },
   "file_extension": ".py",
   "mimetype": "text/x-python",
   "name": "python",
   "nbconvert_exporter": "python",
   "pygments_lexer": "ipython3",
   "version": "3.8.3"
  }
 },
 "nbformat": 4,
 "nbformat_minor": 4
}
